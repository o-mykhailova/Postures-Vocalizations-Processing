{
 "cells": [
  {
   "cell_type": "code",
   "execution_count": 1,
   "metadata": {},
   "outputs": [],
   "source": [
    "import numpy as np\n",
    "import pandas as pd"
   ]
  },
  {
   "cell_type": "code",
   "execution_count": 2,
   "metadata": {},
   "outputs": [],
   "source": [
    "%store -r rattles_1\n",
    "%store -r rattles_2\n",
    "%store -r rattles_3\n",
    "%store -r rattles_4"
   ]
  },
  {
   "cell_type": "code",
   "execution_count": 3,
   "metadata": {},
   "outputs": [],
   "source": [
    "rattles_4m = pd.DataFrame()\n",
    "rattles_6m = pd.DataFrame()\n",
    "rattles_9m = pd.DataFrame()\n",
    "rattles_12m = pd.DataFrame()"
   ]
  },
  {
   "cell_type": "code",
   "execution_count": 4,
   "metadata": {},
   "outputs": [],
   "source": [
    "for i in rattles_1:\n",
    "    df2 = pd.DataFrame(data = rattles_1[i])\n",
    "    rattles_4m = pd.concat([rattles_4m, df2], ignore_index=True)\n"
   ]
  },
  {
   "cell_type": "code",
   "execution_count": 5,
   "metadata": {},
   "outputs": [],
   "source": [
    "for i in rattles_2:\n",
    "    df2 = pd.DataFrame(data = rattles_2[i])\n",
    "    rattles_6m = pd.concat([rattles_6m, df2], ignore_index=True)\n"
   ]
  },
  {
   "cell_type": "code",
   "execution_count": 6,
   "metadata": {},
   "outputs": [],
   "source": [
    "for i in rattles_3:\n",
    "    df2 = pd.DataFrame(data = rattles_3[i])\n",
    "    rattles_9m = pd.concat([rattles_9m, df2], ignore_index=True)\n"
   ]
  },
  {
   "cell_type": "code",
   "execution_count": 7,
   "metadata": {},
   "outputs": [],
   "source": [
    "for i in rattles_4:\n",
    "    df2 = pd.DataFrame(data = rattles_4[i])\n",
    "    rattles_12m = pd.concat([rattles_12m, df2], ignore_index=True)\n"
   ]
  },
  {
   "cell_type": "code",
   "execution_count": 8,
   "metadata": {},
   "outputs": [],
   "source": [
    "rattles_4m['visit'] = 1\n",
    "rattles_4m['age'] = 4\n"
   ]
  },
  {
   "cell_type": "code",
   "execution_count": 9,
   "metadata": {},
   "outputs": [],
   "source": [
    "rattles_6m['visit'] = 2\n",
    "rattles_6m['age'] = 6"
   ]
  },
  {
   "cell_type": "code",
   "execution_count": 10,
   "metadata": {},
   "outputs": [],
   "source": [
    "rattles_9m['visit'] = 3\n",
    "rattles_9m['age'] = 9"
   ]
  },
  {
   "cell_type": "code",
   "execution_count": 11,
   "metadata": {},
   "outputs": [],
   "source": [
    "rattles_12m['visit'] = 4\n",
    "rattles_12m['age'] = 12"
   ]
  },
  {
   "cell_type": "code",
   "execution_count": 13,
   "metadata": {},
   "outputs": [],
   "source": [
    "rattles_list = [rattles_4m, rattles_6m, rattles_9m, rattles_12m]"
   ]
  },
  {
   "cell_type": "code",
   "execution_count": 17,
   "metadata": {},
   "outputs": [],
   "source": [
    "rattles = pd.concat(rattles_list)"
   ]
  },
  {
   "cell_type": "code",
   "execution_count": 20,
   "metadata": {},
   "outputs": [],
   "source": [
    "rattles['task'] = 'rattles'"
   ]
  },
  {
   "cell_type": "code",
   "execution_count": 21,
   "metadata": {},
   "outputs": [
    {
     "data": {
      "text/html": [
       "<div>\n",
       "<style scoped>\n",
       "    .dataframe tbody tr th:only-of-type {\n",
       "        vertical-align: middle;\n",
       "    }\n",
       "\n",
       "    .dataframe tbody tr th {\n",
       "        vertical-align: top;\n",
       "    }\n",
       "\n",
       "    .dataframe thead th {\n",
       "        text-align: right;\n",
       "    }\n",
       "</style>\n",
       "<table border=\"1\" class=\"dataframe\">\n",
       "  <thead>\n",
       "    <tr style=\"text-align: right;\">\n",
       "      <th></th>\n",
       "      <th>id</th>\n",
       "      <th>label</th>\n",
       "      <th>number</th>\n",
       "      <th>percentage</th>\n",
       "      <th>visit</th>\n",
       "      <th>age</th>\n",
       "      <th>task</th>\n",
       "    </tr>\n",
       "  </thead>\n",
       "  <tbody>\n",
       "    <tr>\n",
       "      <th>0</th>\n",
       "      <td>77005_1_ratt</td>\n",
       "      <td>Sitting speech_related</td>\n",
       "      <td>581894</td>\n",
       "      <td>4.781427</td>\n",
       "      <td>1</td>\n",
       "      <td>4</td>\n",
       "      <td>rattles</td>\n",
       "    </tr>\n",
       "    <tr>\n",
       "      <th>1</th>\n",
       "      <td>77006_1_ratt</td>\n",
       "      <td>Sitting speech_related</td>\n",
       "      <td>70440</td>\n",
       "      <td>0.456282</td>\n",
       "      <td>1</td>\n",
       "      <td>4</td>\n",
       "      <td>rattles</td>\n",
       "    </tr>\n",
       "    <tr>\n",
       "      <th>2</th>\n",
       "      <td>77006_1_ratt</td>\n",
       "      <td>Sitting not_speech_related</td>\n",
       "      <td>6855</td>\n",
       "      <td>0.044404</td>\n",
       "      <td>1</td>\n",
       "      <td>4</td>\n",
       "      <td>rattles</td>\n",
       "    </tr>\n",
       "    <tr>\n",
       "      <th>3</th>\n",
       "      <td>77007_1_ratt</td>\n",
       "      <td>Sitting speech_related</td>\n",
       "      <td>959200</td>\n",
       "      <td>7.322120</td>\n",
       "      <td>1</td>\n",
       "      <td>4</td>\n",
       "      <td>rattles</td>\n",
       "    </tr>\n",
       "    <tr>\n",
       "      <th>4</th>\n",
       "      <td>77007_1_ratt</td>\n",
       "      <td>Sitting not_speech_related</td>\n",
       "      <td>132881</td>\n",
       "      <td>1.014356</td>\n",
       "      <td>1</td>\n",
       "      <td>4</td>\n",
       "      <td>rattles</td>\n",
       "    </tr>\n",
       "    <tr>\n",
       "      <th>...</th>\n",
       "      <td>...</td>\n",
       "      <td>...</td>\n",
       "      <td>...</td>\n",
       "      <td>...</td>\n",
       "      <td>...</td>\n",
       "      <td>...</td>\n",
       "      <td>...</td>\n",
       "    </tr>\n",
       "    <tr>\n",
       "      <th>56</th>\n",
       "      <td>77035_4_ratt</td>\n",
       "      <td>Held speech_related</td>\n",
       "      <td>0</td>\n",
       "      <td>0.000000</td>\n",
       "      <td>4</td>\n",
       "      <td>12</td>\n",
       "      <td>rattles</td>\n",
       "    </tr>\n",
       "    <tr>\n",
       "      <th>57</th>\n",
       "      <td>77035_4_ratt</td>\n",
       "      <td>Sitting speech_related</td>\n",
       "      <td>1523392</td>\n",
       "      <td>10.563925</td>\n",
       "      <td>4</td>\n",
       "      <td>12</td>\n",
       "      <td>rattles</td>\n",
       "    </tr>\n",
       "    <tr>\n",
       "      <th>58</th>\n",
       "      <td>77036_4_ratt</td>\n",
       "      <td>Sitting speech_related</td>\n",
       "      <td>155454</td>\n",
       "      <td>1.115528</td>\n",
       "      <td>4</td>\n",
       "      <td>12</td>\n",
       "      <td>rattles</td>\n",
       "    </tr>\n",
       "    <tr>\n",
       "      <th>59</th>\n",
       "      <td>77036_4_ratt</td>\n",
       "      <td>Hands and knees speech_related</td>\n",
       "      <td>0</td>\n",
       "      <td>0.000000</td>\n",
       "      <td>4</td>\n",
       "      <td>12</td>\n",
       "      <td>rattles</td>\n",
       "    </tr>\n",
       "    <tr>\n",
       "      <th>60</th>\n",
       "      <td>77036_4_ratt</td>\n",
       "      <td>Prone speech_related</td>\n",
       "      <td>202502</td>\n",
       "      <td>1.453141</td>\n",
       "      <td>4</td>\n",
       "      <td>12</td>\n",
       "      <td>rattles</td>\n",
       "    </tr>\n",
       "  </tbody>\n",
       "</table>\n",
       "<p>199 rows × 7 columns</p>\n",
       "</div>"
      ],
      "text/plain": [
       "              id                           label   number  percentage  visit  \\\n",
       "0   77005_1_ratt          Sitting speech_related   581894    4.781427      1   \n",
       "1   77006_1_ratt          Sitting speech_related    70440    0.456282      1   \n",
       "2   77006_1_ratt      Sitting not_speech_related     6855    0.044404      1   \n",
       "3   77007_1_ratt          Sitting speech_related   959200    7.322120      1   \n",
       "4   77007_1_ratt      Sitting not_speech_related   132881    1.014356      1   \n",
       "..           ...                             ...      ...         ...    ...   \n",
       "56  77035_4_ratt             Held speech_related        0    0.000000      4   \n",
       "57  77035_4_ratt          Sitting speech_related  1523392   10.563925      4   \n",
       "58  77036_4_ratt          Sitting speech_related   155454    1.115528      4   \n",
       "59  77036_4_ratt  Hands and knees speech_related        0    0.000000      4   \n",
       "60  77036_4_ratt            Prone speech_related   202502    1.453141      4   \n",
       "\n",
       "    age     task  \n",
       "0     4  rattles  \n",
       "1     4  rattles  \n",
       "2     4  rattles  \n",
       "3     4  rattles  \n",
       "4     4  rattles  \n",
       "..  ...      ...  \n",
       "56   12  rattles  \n",
       "57   12  rattles  \n",
       "58   12  rattles  \n",
       "59   12  rattles  \n",
       "60   12  rattles  \n",
       "\n",
       "[199 rows x 7 columns]"
      ]
     },
     "execution_count": 21,
     "metadata": {},
     "output_type": "execute_result"
    }
   ],
   "source": [
    "rattles"
   ]
  },
  {
   "cell_type": "code",
   "execution_count": 22,
   "metadata": {},
   "outputs": [],
   "source": [
    "for i in rattles['label']:\n",
    "    if (i.split(' ')[0] == 'Supine')| (i.split(' ')[0] == 'Prone')| (i.split(' ')[0] == 'Held')| (i.split(' ')[0] == 'Sitting'):\n",
    "        rattles.loc[rattles['label'] == i, ['voc']] = i.split(' ')[1]\n",
    "    elif i.split(' ')[0] == 'Hands':\n",
    "        rattles.loc[rattles['label'] == i, ['voc']] = i.split(' ')[3]\n",
    "    else:\n",
    "        rattles.loc[rattles['label'] == i, ['voc']] = i.split(' ')[2]\n"
   ]
  },
  {
   "cell_type": "code",
   "execution_count": 24,
   "metadata": {},
   "outputs": [],
   "source": [
    "for i in rattles['label']:\n",
    "    if (i.split(' ')[0] == 'Supine')| (i.split(' ')[0] == 'Prone')| (i.split(' ')[0] == 'Held')| (i.split(' ')[0] == 'Sitting'):\n",
    "        rattles.loc[rattles['label'] == i, ['label']] = i.split(' ')[0]\n",
    "    elif i.split(' ')[0] == 'Standing':\n",
    "        rattles.loc[rattles['label'] == i, ['label']] = i.split(' ')[0]\n",
    "\n",
    "    else:\n",
    "        rattles.loc[rattles['label'] == i, ['label']] = 'Hands and knees'\n",
    "        \n"
   ]
  },
  {
   "cell_type": "code",
   "execution_count": 26,
   "metadata": {},
   "outputs": [
    {
     "name": "stdout",
     "output_type": "stream",
     "text": [
      "Stored 'rattles' (DataFrame)\n"
     ]
    }
   ],
   "source": [
    "%store rattles"
   ]
  },
  {
   "cell_type": "code",
   "execution_count": 27,
   "metadata": {},
   "outputs": [],
   "source": [
    "rattles_prep = rattles.copy()"
   ]
  },
  {
   "cell_type": "code",
   "execution_count": 28,
   "metadata": {},
   "outputs": [],
   "source": [
    "for i in rattles_prep['id']:\n",
    "    rattles_prep.loc[rattles_prep['id'] == i, ['id']] = i.split('_')[0]"
   ]
  },
  {
   "cell_type": "code",
   "execution_count": 30,
   "metadata": {},
   "outputs": [],
   "source": [
    "rattles_prep.drop('number', axis=1, inplace=True)"
   ]
  },
  {
   "cell_type": "code",
   "execution_count": 33,
   "metadata": {},
   "outputs": [],
   "source": [
    "rattles_prep = rattles_prep[rattles_prep['voc'] == 'speech_related']"
   ]
  },
  {
   "cell_type": "code",
   "execution_count": 35,
   "metadata": {},
   "outputs": [
    {
     "name": "stdout",
     "output_type": "stream",
     "text": [
      "Stored 'rattles_prep' (DataFrame)\n"
     ]
    }
   ],
   "source": [
    "%store rattles_prep"
   ]
  },
  {
   "cell_type": "code",
   "execution_count": null,
   "metadata": {},
   "outputs": [],
   "source": []
  }
 ],
 "metadata": {
  "kernelspec": {
   "display_name": "Python 3",
   "language": "python",
   "name": "python3"
  },
  "language_info": {
   "codemirror_mode": {
    "name": "ipython",
    "version": 3
   },
   "file_extension": ".py",
   "mimetype": "text/x-python",
   "name": "python",
   "nbconvert_exporter": "python",
   "pygments_lexer": "ipython3",
   "version": "3.8.5"
  }
 },
 "nbformat": 4,
 "nbformat_minor": 4
}
