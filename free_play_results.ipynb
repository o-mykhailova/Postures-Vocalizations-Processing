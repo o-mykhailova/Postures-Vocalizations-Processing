{
 "cells": [
  {
   "cell_type": "code",
   "execution_count": 1,
   "metadata": {},
   "outputs": [],
   "source": [
    "import numpy as np\n",
    "import pandas as pd"
   ]
  },
  {
   "cell_type": "code",
   "execution_count": 4,
   "metadata": {},
   "outputs": [],
   "source": [
    "%store -r free_play_1\n",
    "%store -r free_play_2\n",
    "%store -r free_play_3\n",
    "%store -r free_play_3_2\n",
    "%store -r free_play_4\n"
   ]
  },
  {
   "cell_type": "code",
   "execution_count": 5,
   "metadata": {},
   "outputs": [],
   "source": [
    "free_play_3.update(free_play_3_2)\n"
   ]
  },
  {
   "cell_type": "code",
   "execution_count": 6,
   "metadata": {},
   "outputs": [],
   "source": [
    "free_play_4m = pd.DataFrame()\n",
    "free_play_6m = pd.DataFrame()\n",
    "free_play_9m = pd.DataFrame()\n",
    "free_play_12m = pd.DataFrame()"
   ]
  },
  {
   "cell_type": "code",
   "execution_count": 7,
   "metadata": {},
   "outputs": [],
   "source": [
    "for i in free_play_1:\n",
    "    df2 = pd.DataFrame(data = free_play_1[i])\n",
    "    free_play_4m = pd.concat([free_play_4m, df2], ignore_index=True)\n"
   ]
  },
  {
   "cell_type": "code",
   "execution_count": 8,
   "metadata": {},
   "outputs": [],
   "source": [
    "for i in free_play_2:\n",
    "    df2 = pd.DataFrame(data = free_play_2[i])\n",
    "    free_play_6m = pd.concat([free_play_6m, df2], ignore_index=True)\n"
   ]
  },
  {
   "cell_type": "code",
   "execution_count": 9,
   "metadata": {},
   "outputs": [],
   "source": [
    "for i in free_play_3:\n",
    "    df2 = pd.DataFrame(data = free_play_3[i])\n",
    "    free_play_9m = pd.concat([free_play_9m, df2], ignore_index=True)\n"
   ]
  },
  {
   "cell_type": "code",
   "execution_count": 10,
   "metadata": {},
   "outputs": [],
   "source": [
    "for i in free_play_4:\n",
    "    df2 = pd.DataFrame(data = free_play_4[i])\n",
    "    free_play_12m = pd.concat([free_play_12m, df2], ignore_index=True)\n"
   ]
  },
  {
   "cell_type": "code",
   "execution_count": 11,
   "metadata": {},
   "outputs": [],
   "source": [
    "free_play_4m['visit'] = 1\n",
    "free_play_4m['age'] = 4"
   ]
  },
  {
   "cell_type": "code",
   "execution_count": 12,
   "metadata": {},
   "outputs": [],
   "source": [
    "free_play_6m['visit'] = 2\n",
    "free_play_6m['age'] = 6"
   ]
  },
  {
   "cell_type": "code",
   "execution_count": 13,
   "metadata": {},
   "outputs": [],
   "source": [
    "free_play_9m['visit'] = 3\n",
    "free_play_9m['age'] = 9"
   ]
  },
  {
   "cell_type": "code",
   "execution_count": 14,
   "metadata": {},
   "outputs": [],
   "source": [
    "free_play_12m['visit'] = 4\n",
    "free_play_12m['age'] = 12"
   ]
  },
  {
   "cell_type": "code",
   "execution_count": 16,
   "metadata": {},
   "outputs": [],
   "source": [
    "free_list = [free_play_4m, free_play_6m, free_play_9m, free_play_12m]"
   ]
  },
  {
   "cell_type": "code",
   "execution_count": 28,
   "metadata": {},
   "outputs": [],
   "source": [
    "free_play = pd.concat(free_list)"
   ]
  },
  {
   "cell_type": "code",
   "execution_count": 29,
   "metadata": {},
   "outputs": [
    {
     "data": {
      "text/html": [
       "<div>\n",
       "<style scoped>\n",
       "    .dataframe tbody tr th:only-of-type {\n",
       "        vertical-align: middle;\n",
       "    }\n",
       "\n",
       "    .dataframe tbody tr th {\n",
       "        vertical-align: top;\n",
       "    }\n",
       "\n",
       "    .dataframe thead th {\n",
       "        text-align: right;\n",
       "    }\n",
       "</style>\n",
       "<table border=\"1\" class=\"dataframe\">\n",
       "  <thead>\n",
       "    <tr style=\"text-align: right;\">\n",
       "      <th></th>\n",
       "      <th>id</th>\n",
       "      <th>label</th>\n",
       "      <th>number</th>\n",
       "      <th>percentage</th>\n",
       "      <th>visit</th>\n",
       "      <th>age</th>\n",
       "    </tr>\n",
       "  </thead>\n",
       "  <tbody>\n",
       "    <tr>\n",
       "      <th>0</th>\n",
       "      <td>77003_1_free</td>\n",
       "      <td>Supine speech_related</td>\n",
       "      <td>840823</td>\n",
       "      <td>4.673142</td>\n",
       "      <td>1</td>\n",
       "      <td>4</td>\n",
       "    </tr>\n",
       "    <tr>\n",
       "      <th>1</th>\n",
       "      <td>77003_1_free</td>\n",
       "      <td>Supine not_speech_related</td>\n",
       "      <td>112486</td>\n",
       "      <td>0.625177</td>\n",
       "      <td>1</td>\n",
       "      <td>4</td>\n",
       "    </tr>\n",
       "    <tr>\n",
       "      <th>2</th>\n",
       "      <td>77003_1_free</td>\n",
       "      <td>Held speech_related</td>\n",
       "      <td>1104453</td>\n",
       "      <td>6.138350</td>\n",
       "      <td>1</td>\n",
       "      <td>4</td>\n",
       "    </tr>\n",
       "    <tr>\n",
       "      <th>3</th>\n",
       "      <td>77003_1_free</td>\n",
       "      <td>Held not_speech_related</td>\n",
       "      <td>266123</td>\n",
       "      <td>1.479064</td>\n",
       "      <td>1</td>\n",
       "      <td>4</td>\n",
       "    </tr>\n",
       "    <tr>\n",
       "      <th>4</th>\n",
       "      <td>77003_1_free</td>\n",
       "      <td>Prone speech_related</td>\n",
       "      <td>201290</td>\n",
       "      <td>1.118733</td>\n",
       "      <td>1</td>\n",
       "      <td>4</td>\n",
       "    </tr>\n",
       "    <tr>\n",
       "      <th>...</th>\n",
       "      <td>...</td>\n",
       "      <td>...</td>\n",
       "      <td>...</td>\n",
       "      <td>...</td>\n",
       "      <td>...</td>\n",
       "      <td>...</td>\n",
       "    </tr>\n",
       "    <tr>\n",
       "      <th>60</th>\n",
       "      <td>77035_4_free</td>\n",
       "      <td>Hands and knees speech_related</td>\n",
       "      <td>1246891</td>\n",
       "      <td>4.642744</td>\n",
       "      <td>4</td>\n",
       "      <td>12</td>\n",
       "    </tr>\n",
       "    <tr>\n",
       "      <th>61</th>\n",
       "      <td>77036_4_free</td>\n",
       "      <td>Sitting speech_related</td>\n",
       "      <td>1664666</td>\n",
       "      <td>5.702044</td>\n",
       "      <td>4</td>\n",
       "      <td>12</td>\n",
       "    </tr>\n",
       "    <tr>\n",
       "      <th>62</th>\n",
       "      <td>77036_4_free</td>\n",
       "      <td>Standing upright speech_related</td>\n",
       "      <td>460653</td>\n",
       "      <td>1.577892</td>\n",
       "      <td>4</td>\n",
       "      <td>12</td>\n",
       "    </tr>\n",
       "    <tr>\n",
       "      <th>63</th>\n",
       "      <td>77036_4_free</td>\n",
       "      <td>Hands and knees speech_related</td>\n",
       "      <td>614855</td>\n",
       "      <td>2.106086</td>\n",
       "      <td>4</td>\n",
       "      <td>12</td>\n",
       "    </tr>\n",
       "    <tr>\n",
       "      <th>64</th>\n",
       "      <td>77036_4_free</td>\n",
       "      <td>Prone speech_related</td>\n",
       "      <td>284078</td>\n",
       "      <td>0.973063</td>\n",
       "      <td>4</td>\n",
       "      <td>12</td>\n",
       "    </tr>\n",
       "  </tbody>\n",
       "</table>\n",
       "<p>234 rows × 6 columns</p>\n",
       "</div>"
      ],
      "text/plain": [
       "              id                            label   number  percentage  visit  \\\n",
       "0   77003_1_free            Supine speech_related   840823    4.673142      1   \n",
       "1   77003_1_free        Supine not_speech_related   112486    0.625177      1   \n",
       "2   77003_1_free              Held speech_related  1104453    6.138350      1   \n",
       "3   77003_1_free          Held not_speech_related   266123    1.479064      1   \n",
       "4   77003_1_free             Prone speech_related   201290    1.118733      1   \n",
       "..           ...                              ...      ...         ...    ...   \n",
       "60  77035_4_free   Hands and knees speech_related  1246891    4.642744      4   \n",
       "61  77036_4_free           Sitting speech_related  1664666    5.702044      4   \n",
       "62  77036_4_free  Standing upright speech_related   460653    1.577892      4   \n",
       "63  77036_4_free   Hands and knees speech_related   614855    2.106086      4   \n",
       "64  77036_4_free             Prone speech_related   284078    0.973063      4   \n",
       "\n",
       "    age  \n",
       "0     4  \n",
       "1     4  \n",
       "2     4  \n",
       "3     4  \n",
       "4     4  \n",
       "..  ...  \n",
       "60   12  \n",
       "61   12  \n",
       "62   12  \n",
       "63   12  \n",
       "64   12  \n",
       "\n",
       "[234 rows x 6 columns]"
      ]
     },
     "execution_count": 29,
     "metadata": {},
     "output_type": "execute_result"
    }
   ],
   "source": [
    "free_play"
   ]
  },
  {
   "cell_type": "code",
   "execution_count": 30,
   "metadata": {},
   "outputs": [],
   "source": [
    "free_play['task'] = 'free_play'"
   ]
  },
  {
   "cell_type": "code",
   "execution_count": null,
   "metadata": {},
   "outputs": [],
   "source": [
    "for i in free_play['label']:\n",
    "    if (i.split(' ')[0] == 'Supine')| (i.split(' ')[0] == 'Prone')| (i.split(' ')[0] == 'Held')| (i.split(' ')[0] == 'Sitting'):\n",
    "        free_play.loc[free_play['label'] == i, ['voc']] = i.split(' ')[1]\n",
    "    elif i.split(' ')[0] == 'Hands':\n",
    "        free_play.loc[free_play['label'] == i, ['voc']] = i.split(' ')[3]\n",
    "    else:\n",
    "        free_play.loc[free_play['label'] == i, ['voc']] = i.split(' ')[2]\n"
   ]
  },
  {
   "cell_type": "code",
   "execution_count": 26,
   "metadata": {},
   "outputs": [],
   "source": [
    "for i in free_play['label']:\n",
    "    if (i.split(' ')[0] == 'Supine')| (i.split(' ')[0] == 'Prone')| (i.split(' ')[0] == 'Held')| (i.split(' ')[0] == 'Sitting'):\n",
    "        free_play.loc[free_play['label'] == i, ['label']] = i.split(' ')[0]\n",
    "    elif i.split(' ')[0] == 'Standing':\n",
    "        free_play.loc[free_play['label'] == i, ['label']] = i.split(' ')[0]\n",
    "\n",
    "    else:\n",
    "        free_play.loc[free_play['label'] == i, ['label']] = 'Hands and knees'\n",
    "        \n"
   ]
  },
  {
   "cell_type": "code",
   "execution_count": null,
   "metadata": {},
   "outputs": [],
   "source": [
    "free_play['voc'].unique()"
   ]
  },
  {
   "cell_type": "code",
   "execution_count": 25,
   "metadata": {},
   "outputs": [
    {
     "name": "stdout",
     "output_type": "stream",
     "text": [
      "Stored 'free_play' (DataFrame)\n"
     ]
    }
   ],
   "source": [
    "%store free_play"
   ]
  },
  {
   "cell_type": "code",
   "execution_count": 26,
   "metadata": {},
   "outputs": [],
   "source": [
    "free_play_prep = free_play.copy()"
   ]
  },
  {
   "cell_type": "code",
   "execution_count": 30,
   "metadata": {},
   "outputs": [],
   "source": [
    "for i in free_play_prep['id']:\n",
    "    free_play_prep.loc[free_play_prep['id'] == i, ['id']] = i.split('_')[0]"
   ]
  },
  {
   "cell_type": "code",
   "execution_count": 31,
   "metadata": {},
   "outputs": [],
   "source": [
    "free_play_prep.drop('number', axis=1, inplace=True)"
   ]
  },
  {
   "cell_type": "code",
   "execution_count": 27,
   "metadata": {},
   "outputs": [],
   "source": [
    "free_play_prep = free_play_prep[free_play_prep['voc'] == 'speech_related']\n"
   ]
  },
  {
   "cell_type": "code",
   "execution_count": 33,
   "metadata": {},
   "outputs": [
    {
     "name": "stdout",
     "output_type": "stream",
     "text": [
      "Stored 'free_play_prep' (DataFrame)\n"
     ]
    }
   ],
   "source": [
    "%store free_play_prep"
   ]
  },
  {
   "cell_type": "code",
   "execution_count": 1,
   "metadata": {},
   "outputs": [
    {
     "ename": "NameError",
     "evalue": "name 'free_play_prep' is not defined",
     "output_type": "error",
     "traceback": [
      "\u001b[1;31m---------------------------------------------------------------------------\u001b[0m",
      "\u001b[1;31mNameError\u001b[0m                                 Traceback (most recent call last)",
      "\u001b[1;32m<ipython-input-1-b828800b9255>\u001b[0m in \u001b[0;36m<module>\u001b[1;34m\u001b[0m\n\u001b[1;32m----> 1\u001b[1;33m \u001b[0mfree_play_prep\u001b[0m\u001b[1;33m\u001b[0m\u001b[1;33m\u001b[0m\u001b[0m\n\u001b[0m",
      "\u001b[1;31mNameError\u001b[0m: name 'free_play_prep' is not defined"
     ]
    }
   ],
   "source": [
    "free_play_prep"
   ]
  },
  {
   "cell_type": "code",
   "execution_count": null,
   "metadata": {},
   "outputs": [],
   "source": []
  }
 ],
 "metadata": {
  "kernelspec": {
   "display_name": "Python 3",
   "language": "python",
   "name": "python3"
  },
  "language_info": {
   "codemirror_mode": {
    "name": "ipython",
    "version": 3
   },
   "file_extension": ".py",
   "mimetype": "text/x-python",
   "name": "python",
   "nbconvert_exporter": "python",
   "pygments_lexer": "ipython3",
   "version": "3.8.5"
  }
 },
 "nbformat": 4,
 "nbformat_minor": 4
}
