{
 "cells": [
  {
   "cell_type": "code",
   "execution_count": 7,
   "metadata": {},
   "outputs": [],
   "source": [
    "import pandas as pd\n"
   ]
  },
  {
   "cell_type": "code",
   "execution_count": 2,
   "metadata": {},
   "outputs": [],
   "source": [
    "%store -r interpolated_ratt_visit_1"
   ]
  },
  {
   "cell_type": "code",
   "execution_count": 3,
   "metadata": {},
   "outputs": [],
   "source": [
    "%store -r timeCoded_vocs_ratt_1"
   ]
  },
  {
   "cell_type": "code",
   "execution_count": 4,
   "metadata": {},
   "outputs": [],
   "source": [
    "for (key, value) in timeCoded_vocs_ratt_1.items():\n",
    "    if 'clap' in value.columns:\n",
    "        del value['clap']"
   ]
  },
  {
   "cell_type": "code",
   "execution_count": 5,
   "metadata": {},
   "outputs": [],
   "source": [
    "visit_1 = {}"
   ]
  },
  {
   "cell_type": "code",
   "execution_count": 6,
   "metadata": {},
   "outputs": [],
   "source": [
    "for (key, value), (ids, vocs) in zip(interpolated_ratt_visit_1.items(), timeCoded_vocs_ratt_1.items()):\n",
    "    df = pd.DataFrame()\n",
    "    for i in value.columns:\n",
    "        for n in vocs.columns:\n",
    "            df[i + \" \" + n] = value[i] + vocs[n]\n",
    "            visit_1[key] = df"
   ]
  },
  {
   "cell_type": "code",
   "execution_count": 7,
   "metadata": {},
   "outputs": [],
   "source": [
    "rattles_1 = {}"
   ]
  },
  {
   "cell_type": "code",
   "execution_count": 8,
   "metadata": {},
   "outputs": [],
   "source": [
    "for key in visit_1:\n",
    "    df = pd.DataFrame()\n",
    "    for i in visit_1[key].columns:\n",
    "        df2 = pd.DataFrame({'id': key,'label': i, 'number': visit_1[key][ visit_1[key][i] == 2].shape[0], 'percentage': visit_1[key][ visit_1[key][i] == 2].shape[0]/visit_1[key].shape[0] * 100}, index=[0])\n",
    "        df = pd.concat([df, df2], ignore_index=True)\n",
    "        rattles_1[key] = df"
   ]
  },
  {
   "cell_type": "code",
   "execution_count": 11,
   "metadata": {},
   "outputs": [
    {
     "name": "stdout",
     "output_type": "stream",
     "text": [
      "Stored 'rattles_1' (dict)\n"
     ]
    }
   ],
   "source": [
    "%store rattles_1"
   ]
  },
  {
   "cell_type": "markdown",
   "metadata": {},
   "source": [
    "Visit 2"
   ]
  },
  {
   "cell_type": "code",
   "execution_count": 12,
   "metadata": {},
   "outputs": [],
   "source": [
    "%store -r interpolated_ratt_visit_2"
   ]
  },
  {
   "cell_type": "code",
   "execution_count": 13,
   "metadata": {},
   "outputs": [],
   "source": [
    "%store -r timeCoded_vocs_ratt_2"
   ]
  },
  {
   "cell_type": "code",
   "execution_count": 14,
   "metadata": {},
   "outputs": [],
   "source": [
    "for (key, value) in timeCoded_vocs_ratt_2.items():\n",
    "    if 'clap' in value.columns:\n",
    "        del value['clap']"
   ]
  },
  {
   "cell_type": "code",
   "execution_count": 15,
   "metadata": {},
   "outputs": [],
   "source": [
    "visit_2 = {}"
   ]
  },
  {
   "cell_type": "code",
   "execution_count": 16,
   "metadata": {},
   "outputs": [],
   "source": [
    "for (key, value), (ids, vocs) in zip(interpolated_ratt_visit_2.items(), timeCoded_vocs_ratt_2.items()):\n",
    "    df = pd.DataFrame()\n",
    "    for i in value.columns:\n",
    "        for n in vocs.columns:\n",
    "            df[i + \" \" + n] = value[i] + vocs[n]\n",
    "            visit_2[key] = df"
   ]
  },
  {
   "cell_type": "code",
   "execution_count": 17,
   "metadata": {},
   "outputs": [],
   "source": [
    "rattles_2 = {}"
   ]
  },
  {
   "cell_type": "code",
   "execution_count": 18,
   "metadata": {},
   "outputs": [],
   "source": [
    "for key in visit_2:\n",
    "    df = pd.DataFrame()\n",
    "    for i in visit_2[key].columns:\n",
    "        df2 = pd.DataFrame({'id': key,'label': i, 'number': visit_2[key][ visit_2[key][i] == 2].shape[0], 'percentage': visit_2[key][ visit_2[key][i] == 2].shape[0]/visit_2[key].shape[0] * 100}, index=[0])\n",
    "        df = pd.concat([df, df2], ignore_index=True)\n",
    "        rattles_2[key] = df"
   ]
  },
  {
   "cell_type": "code",
   "execution_count": 19,
   "metadata": {},
   "outputs": [
    {
     "name": "stdout",
     "output_type": "stream",
     "text": [
      "Stored 'rattles_2' (dict)\n"
     ]
    }
   ],
   "source": [
    "%store rattles_2"
   ]
  },
  {
   "cell_type": "markdown",
   "metadata": {},
   "source": [
    "Visit 3"
   ]
  },
  {
   "cell_type": "code",
   "execution_count": 3,
   "metadata": {},
   "outputs": [],
   "source": [
    "%store -r interpolated_ratt_visit_3"
   ]
  },
  {
   "cell_type": "code",
   "execution_count": 4,
   "metadata": {},
   "outputs": [],
   "source": [
    "%store -r timeCoded_vocs_ratt_3"
   ]
  },
  {
   "cell_type": "code",
   "execution_count": 5,
   "metadata": {},
   "outputs": [],
   "source": [
    "for (key, value) in timeCoded_vocs_ratt_3.items():\n",
    "    if 'clap' in value.columns:\n",
    "        del value['clap']"
   ]
  },
  {
   "cell_type": "code",
   "execution_count": 6,
   "metadata": {},
   "outputs": [],
   "source": [
    "visit_3 = {}"
   ]
  },
  {
   "cell_type": "code",
   "execution_count": 7,
   "metadata": {},
   "outputs": [],
   "source": [
    "for (key, value), (ids, vocs) in zip(interpolated_ratt_visit_3.items(), timeCoded_vocs_ratt_3.items()):\n",
    "    df = pd.DataFrame()\n",
    "    for i in value.columns:\n",
    "        for n in vocs.columns:\n",
    "            df[i + \" \" + n] = value[i] + vocs[n]\n",
    "            visit_3[key] = df"
   ]
  },
  {
   "cell_type": "code",
   "execution_count": 8,
   "metadata": {},
   "outputs": [],
   "source": [
    "rattles_3 = {}"
   ]
  },
  {
   "cell_type": "code",
   "execution_count": 10,
   "metadata": {},
   "outputs": [],
   "source": [
    "for key in visit_3:\n",
    "    df = pd.DataFrame()\n",
    "    for i in visit_3[key].columns:\n",
    "        df2 = pd.DataFrame({'id': key,'label': i, 'number': visit_3[key][ visit_3[key][i] == 2].shape[0], 'percentage': visit_3[key][ visit_3[key][i] == 2].shape[0]/visit_3[key].shape[0] * 100}, index=[0])\n",
    "        df = pd.concat([df, df2], ignore_index=True)\n",
    "        rattles_3[key] = df"
   ]
  },
  {
   "cell_type": "code",
   "execution_count": 11,
   "metadata": {},
   "outputs": [
    {
     "name": "stdout",
     "output_type": "stream",
     "text": [
      "Stored 'rattles_3' (dict)\n"
     ]
    }
   ],
   "source": [
    "%store rattles_3"
   ]
  },
  {
   "cell_type": "markdown",
   "metadata": {},
   "source": [
    "Visit 4"
   ]
  },
  {
   "cell_type": "code",
   "execution_count": 1,
   "metadata": {},
   "outputs": [],
   "source": [
    "%store -r interpolated_ratt_visit_4"
   ]
  },
  {
   "cell_type": "code",
   "execution_count": 3,
   "metadata": {},
   "outputs": [],
   "source": [
    "%store -r timeCoded_vocs_ratt_4"
   ]
  },
  {
   "cell_type": "code",
   "execution_count": 4,
   "metadata": {},
   "outputs": [],
   "source": [
    "for (key, value) in timeCoded_vocs_ratt_4.items():\n",
    "    if 'clap' in value.columns:\n",
    "        del value['clap']"
   ]
  },
  {
   "cell_type": "code",
   "execution_count": 5,
   "metadata": {},
   "outputs": [],
   "source": [
    "visit_4 = {}"
   ]
  },
  {
   "cell_type": "code",
   "execution_count": 8,
   "metadata": {},
   "outputs": [],
   "source": [
    "for (key, value), (ids, vocs) in zip(interpolated_ratt_visit_4.items(), timeCoded_vocs_ratt_4.items()):\n",
    "    df = pd.DataFrame()\n",
    "    for i in value.columns:\n",
    "        for n in vocs.columns:\n",
    "            df[i + \" \" + n] = value[i] + vocs[n]\n",
    "            visit_4[key] = df"
   ]
  },
  {
   "cell_type": "code",
   "execution_count": 9,
   "metadata": {},
   "outputs": [],
   "source": [
    "rattles_4 = {}"
   ]
  },
  {
   "cell_type": "code",
   "execution_count": 10,
   "metadata": {},
   "outputs": [],
   "source": [
    "for key in visit_4:\n",
    "    df = pd.DataFrame()\n",
    "    for i in visit_4[key].columns:\n",
    "        df2 = pd.DataFrame({'id': key,'label': i, 'number': visit_4[key][ visit_4[key][i] == 2].shape[0], 'percentage': visit_4[key][ visit_4[key][i] == 2].shape[0]/visit_4[key].shape[0] * 100}, index=[0])\n",
    "        df = pd.concat([df, df2], ignore_index=True)\n",
    "        rattles_4[key] = df"
   ]
  },
  {
   "cell_type": "code",
   "execution_count": 11,
   "metadata": {},
   "outputs": [
    {
     "name": "stdout",
     "output_type": "stream",
     "text": [
      "Stored 'rattles_4' (dict)\n"
     ]
    }
   ],
   "source": [
    "%store rattles_4"
   ]
  }
 ],
 "metadata": {
  "kernelspec": {
   "display_name": "Python 3",
   "language": "python",
   "name": "python3"
  },
  "language_info": {
   "codemirror_mode": {
    "name": "ipython",
    "version": 3
   },
   "file_extension": ".py",
   "mimetype": "text/x-python",
   "name": "python",
   "nbconvert_exporter": "python",
   "pygments_lexer": "ipython3",
   "version": "3.8.5"
  }
 },
 "nbformat": 4,
 "nbformat_minor": 4
}
