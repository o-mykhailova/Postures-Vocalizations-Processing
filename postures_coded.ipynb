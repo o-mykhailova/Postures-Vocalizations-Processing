{
 "cells": [
  {
   "cell_type": "code",
   "execution_count": 1,
   "metadata": {},
   "outputs": [],
   "source": [
    "import os\n",
    "import glob\n",
    "import numpy as np\n",
    "import pandas as pd\n",
    "import pympi\n",
    "import seaborn as sns\n",
    "from scipy import interpolate"
   ]
  },
  {
   "cell_type": "code",
   "execution_count": 2,
   "metadata": {},
   "outputs": [],
   "source": [
    "#Sample of coding postures for one task one visit. All other visits were done the same way just by changing directory of data\n",
    "\n",
    "rootdir_glob = 'C:\\\\Users\\\\1\\\\elan_analysis\\\\data\\\\postures\\\\free_play\\\\1' "
   ]
  },
  {
   "cell_type": "code",
   "execution_count": 3,
   "metadata": {},
   "outputs": [],
   "source": [
    "listOfPostures = {}\n",
    "totalSeconds = {}\n",
    "codingFrequency = {}\n",
    "all_annotations = {}\n",
    "timeCoded = {}\n",
    "totalLength = {}\n"
   ]
  },
  {
   "cell_type": "code",
   "execution_count": 4,
   "metadata": {},
   "outputs": [],
   "source": [
    "for i, file in enumerate(glob.glob(os.path.join(rootdir_glob, '**'), recursive=True)):\n",
    "    if os.path.isfile(os.path.join(rootdir_glob, file)):\n",
    "\n",
    "        \n",
    "        \n",
    "        if file.split('.')[1] == 'eaf':\n",
    "            file_name = file.split('\\\\')[-1][:12]\n",
    "            visit = file.split('\\\\')[-1][6:7]\n",
    "            task = file.split('\\\\')[-1][8:12]\n",
    "            elan_file = pympi.Elan.Eaf(file)\n",
    "            df = pd.DataFrame(columns=['id', 'label', 'StartTime', 'EndTime','Duration', 'Visit', 'Task'])\n",
    "            for tier in elan_file.get_tier_names():\n",
    "                for ann in elan_file.get_annotation_data_for_tier(tier):\n",
    "                    df2 = pd.DataFrame({'id': file_name, 'label': tier, 'StartTime': ann[0]/1000, 'EndTime': ann[1]/1000, 'Duration': ann[1]/1000 - ann[0]/1000, 'Visit': visit, 'Task' : task}, index=[0])\n",
    "                    df = pd.concat([df, df2], ignore_index=True)\n",
    "                    df = df.sort_values('StartTime')\n",
    "                    df['label'] = np.where((df.label == 'Supported sitting by caregiver') | (df.label == 'Supported sitting by hand') | (df.label == 'Reclined'), 'Sitting', df.label)\n",
    "                    df['label'] = np.where((df.label == 'Pull to stand') | (df.label == 'Supported stand')| (df.label == 'Walking'), 'Standing upright', df.label)\n",
    "                    df['label'] = np.where((df.label == 'Crawling'), 'Hands and knees', df.label)\n",
    "                    all_annotations[file_name] = df.sort_values('StartTime').reset_index(drop=True)\n",
    "                    listOfPostures[file_name] = all_annotations[file_name].loc[:, 'label'].unique()\n",
    "    "
   ]
  },
  {
   "cell_type": "code",
   "execution_count": 5,
   "metadata": {},
   "outputs": [],
   "source": [
    "for i, file in enumerate(glob.glob(os.path.join(rootdir_glob, '**'), recursive=True)):\n",
    "    if os.path.isfile(os.path.join(rootdir_glob, file)):\n",
    "        if file.split('.')[1] == 'txt':\n",
    "            file_name_txt = file.split('\\\\')[-1][:12] \n",
    "            with open(file) as f:\n",
    "                df = f.readline()\n",
    "                \n",
    "                totalSeconds[file_name_txt] = float(df.split('duration: ')[1].split('/ ')[1])\n",
    "                codingFrequency[file_name_txt] = float(df.split('sample: ')[1].split('\"')[0])/1000\n",
    "                totalLength[file_name_txt] = round(totalSeconds[file_name_txt] / codingFrequency[file_name_txt])\n",
    "                \n",
    "                "
   ]
  },
  {
   "cell_type": "code",
   "execution_count": 6,
   "metadata": {},
   "outputs": [],
   "source": [
    "#Transforming to 1-0\n",
    "for file_name in all_annotations:\n",
    "    timeSeriesCoded = pd.DataFrame(data=np.zeros([len(listOfPostures[file_name]), totalLength[file_name]]),\n",
    "                                   index=listOfPostures[file_name],\n",
    "                                   columns=range(totalLength[file_name]))\n",
    "\n",
    "    for behaviour in listOfPostures[file_name]:\n",
    "        for iValue in range(len(all_annotations[file_name][all_annotations[file_name]['label'] == behaviour].loc[:, 'StartTime'].reset_index(drop=True))):\n",
    "            if all_annotations[file_name][all_annotations[file_name]['label'] == behaviour].loc[:, 'StartTime'].reset_index(drop=True)[iValue] == 0:\n",
    "                timeSeriesCoded.loc[behaviour, :(round(all_annotations[file_name][all_annotations[file_name]['label'] == behaviour].loc[:, 'EndTime'].reset_index(drop=True)[iValue] / codingFrequency[file_name]))] = 1\n",
    "            else:\n",
    "                timeSeriesCoded.loc[behaviour,(round(all_annotations[file_name][all_annotations[file_name]['label'] == behaviour].loc[:, 'StartTime'].reset_index(drop=True)[iValue] / codingFrequency[file_name])):(round(all_annotations[file_name][all_annotations[file_name]['label'] == behaviour].loc[:, 'EndTime'].reset_index(drop=True)[iValue] / codingFrequency[file_name]))] = 1\n",
    "    timeCoded[file_name] = timeSeriesCoded.transpose().astype(int)"
   ]
  },
  {
   "cell_type": "code",
   "execution_count": null,
   "metadata": {},
   "outputs": [],
   "source": [
    "timeCoded"
   ]
  },
  {
   "cell_type": "markdown",
   "metadata": {},
   "source": [
    "Interpolation"
   ]
  },
  {
   "cell_type": "code",
   "execution_count": 8,
   "metadata": {},
   "outputs": [],
   "source": [
    "%store -r totalLength_vocs_free_1\n",
    "interpolated_free_visit_1 = {}"
   ]
  },
  {
   "cell_type": "code",
   "execution_count": 9,
   "metadata": {},
   "outputs": [],
   "source": [
    "for (key,value), (ids,time) in zip(timeCoded.items(), totalLength_vocs_free_1.items()):\n",
    "    if len(value.columns) > 1:\n",
    "        f = interpolate.interp2d(x = np.arange(0, len(value.columns),1), y = np.arange(0, value.shape[0], 1), z = value.astype(int))\n",
    "        r = f(np.arange(0, value.shape[1],1), np.linspace(start = 0, stop = value.shape[0], num = time))\n",
    "        test = pd.DataFrame(columns = value.columns, data = r)\n",
    "        test[(test > 0.5)] = 1\n",
    "        test[(test < 0.5)] = 0\n",
    "        interpolated_free_visit_1[key] = test\n",
    "        \n",
    "    else:\n",
    "        f = interpolate.interp1d(x = np.arange(0, value.shape[0], 1), y = value.astype(int).squeeze())\n",
    "        r = f(np.linspace(start = 0, stop = value.shape[0] -1, num = time))\n",
    "        test = pd.DataFrame(columns = value.columns, data = r)\n",
    "        test[(test > 0.5)] = 1\n",
    "        test[(test < 0.5)] = 0\n",
    "        interpolated_free_visit_1[key] = test"
   ]
  },
  {
   "cell_type": "code",
   "execution_count": 10,
   "metadata": {},
   "outputs": [
    {
     "name": "stdout",
     "output_type": "stream",
     "text": [
      "Stored 'interpolated_free_visit_4_2' (dict)\n"
     ]
    }
   ],
   "source": [
    "%store interpolated_free_visit_1"
   ]
  }
 ],
 "metadata": {
  "kernelspec": {
   "display_name": "Python 3",
   "language": "python",
   "name": "python3"
  },
  "language_info": {
   "codemirror_mode": {
    "name": "ipython",
    "version": 3
   },
   "file_extension": ".py",
   "mimetype": "text/x-python",
   "name": "python",
   "nbconvert_exporter": "python",
   "pygments_lexer": "ipython3",
   "version": "3.8.5"
  }
 },
 "nbformat": 4,
 "nbformat_minor": 4
}
