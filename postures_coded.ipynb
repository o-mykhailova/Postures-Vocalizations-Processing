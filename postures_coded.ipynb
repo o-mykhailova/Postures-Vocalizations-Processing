{
 "cells": [
  {
   "cell_type": "code",
   "execution_count": 1,
   "metadata": {},
   "outputs": [],
   "source": [
    "import os\n",
    "import glob\n",
    "import numpy as np\n",
    "import pandas as pd\n",
    "import pympi\n",
    "import seaborn as sns\n",
    "import tgt\n",
    "import sys\n",
    "import re\n",
    "import seaborn as sns\n",
    "from scipy import interpolate"
   ]
  },
  {
   "cell_type": "code",
   "execution_count": 2,
   "metadata": {},
   "outputs": [
    {
     "data": {
      "text/plain": [
       "'C:\\\\Users\\\\1\\\\elan_analysis\\\\data_old'"
      ]
     },
     "execution_count": 2,
     "metadata": {},
     "output_type": "execute_result"
    }
   ],
   "source": [
    "pwd"
   ]
  },
  {
   "cell_type": "markdown",
   "metadata": {},
   "source": [
    "Free Play ---- Visit 1"
   ]
  },
  {
   "cell_type": "code",
   "execution_count": 2,
   "metadata": {},
   "outputs": [],
   "source": [
    "rootdir_glob = 'C:\\\\Users\\\\1\\\\elan_analysis\\\\data\\\\postures\\\\free_play\\\\1' \n",
    "\n",
    "listOfPostures = {}\n",
    "totalSeconds = {}\n",
    "codingFrequency = {}\n",
    "all_annotations = {}\n",
    "timeCoded = {}\n",
    "totalLength = {}\n"
   ]
  },
  {
   "cell_type": "code",
   "execution_count": 3,
   "metadata": {},
   "outputs": [],
   "source": [
    "for i, file in enumerate(glob.glob(os.path.join(rootdir_glob, '**'), recursive=True)):\n",
    "    if os.path.isfile(os.path.join(rootdir_glob, file)):\n",
    "\n",
    "        \n",
    "        \n",
    "        if file.split('.')[1] == 'eaf':\n",
    "            file_name = file.split('\\\\')[-1][:12]\n",
    "            visit = file.split('\\\\')[-1][6:7]\n",
    "            task = file.split('\\\\')[-1][8:12]\n",
    "            elan_file = pympi.Elan.Eaf(file)\n",
    "            #elan_data[file_name] = elan_file\n",
    "            df = pd.DataFrame(columns=['id', 'label', 'StartTime', 'EndTime','Duration', 'Visit', 'Task'])\n",
    "            for tier in elan_file.get_tier_names():\n",
    "                for ann in elan_file.get_annotation_data_for_tier(tier):\n",
    "                    df2 = pd.DataFrame({'id': file_name, 'label': tier, 'StartTime': ann[0]/1000, 'EndTime': ann[1]/1000, 'Duration': ann[1]/1000 - ann[0]/1000, 'Visit': visit, 'Task' : task}, index=[0])\n",
    "                    df = pd.concat([df, df2], ignore_index=True)\n",
    "                    df = df.sort_values('StartTime')\n",
    "                    all_annotations[file_name] = df.sort_values('StartTime').reset_index(drop=True)\n",
    "                    listOfPostures[file_name] = all_annotations[file_name].loc[:, 'label'].unique()\n",
    "    "
   ]
  },
  {
   "cell_type": "code",
   "execution_count": 4,
   "metadata": {},
   "outputs": [],
   "source": [
    "for i, file in enumerate(glob.glob(os.path.join(rootdir_glob, '**'), recursive=True)):\n",
    "    if os.path.isfile(os.path.join(rootdir_glob, file)):\n",
    "        if file.split('.')[1] == 'txt':\n",
    "            file_name_txt = file.split('\\\\')[-1][:12] \n",
    "            with open(file) as f:\n",
    "                df = f.readline()\n",
    "                \n",
    "                totalSeconds[file_name_txt] = float( df.split('duration: ')[1].split('/ ')[1])\n",
    "                codingFrequency[file_name_txt] = float(df.split('sample: ')[1].split('\"')[0])/1000\n",
    "                totalLength[file_name_txt] = round(totalSeconds[file_name_txt] / codingFrequency[file_name_txt])\n",
    "                \n",
    "                "
   ]
  },
  {
   "cell_type": "code",
   "execution_count": 5,
   "metadata": {},
   "outputs": [],
   "source": [
    "#Transforming to 1-0\n",
    "for file_name in all_annotations:\n",
    "    timeSeriesCoded = pd.DataFrame(data=np.zeros([len(listOfPostures[file_name]), totalLength[file_name]]),\n",
    "                                   index=listOfPostures[file_name],\n",
    "                                   columns=range(totalLength[file_name]))\n",
    "\n",
    "    for behaviour in listOfPostures[file_name]:\n",
    "        for iValue in range(len(all_annotations[file_name][all_annotations[file_name]['label'] == behaviour].loc[:, 'StartTime'].reset_index(drop=True))):\n",
    "            if all_annotations[file_name][all_annotations[file_name]['label'] == behaviour].loc[:, 'StartTime'].reset_index(drop=True)[iValue] == 0:\n",
    "                timeSeriesCoded.loc[behaviour, :(round(all_annotations[file_name][all_annotations[file_name]['label'] == behaviour].loc[:, 'EndTime'].reset_index(drop=True)[iValue] / codingFrequency[file_name]))] = 1\n",
    "            else:\n",
    "                timeSeriesCoded.loc[behaviour,(round(all_annotations[file_name][all_annotations[file_name]['label'] == behaviour].loc[:, 'StartTime'].reset_index(drop=True)[iValue] / codingFrequency[file_name])):(round(all_annotations[file_name][all_annotations[file_name]['label'] == behaviour].loc[:, 'EndTime'].reset_index(drop=True)[iValue] / codingFrequency[file_name]))] = 1\n",
    "    timeCoded[file_name] = timeSeriesCoded.transpose().astype(int)"
   ]
  },
  {
   "cell_type": "code",
   "execution_count": null,
   "metadata": {},
   "outputs": [],
   "source": [
    "timeCoded"
   ]
  },
  {
   "cell_type": "code",
   "execution_count": 7,
   "metadata": {},
   "outputs": [],
   "source": [
    "#Interpolation\n",
    "\n",
    "%store -r totalLength_vocs_free_1\n",
    "interpolated_free_play_visit_1 = {}"
   ]
  },
  {
   "cell_type": "code",
   "execution_count": 8,
   "metadata": {},
   "outputs": [],
   "source": [
    "for (key,value), (ids,time) in zip(timeCoded.items(), totalLength_vocs_free_1.items()):\n",
    "    if len(value.columns) > 1:\n",
    "        f = interpolate.interp2d(x = np.arange(0, len(value.columns),1), y = np.arange(0, value.shape[0], 1), z = value.astype(int))\n",
    "        r = f(np.arange(0, value.shape[1],1), np.linspace(start = 0, stop = value.shape[0], num = time))\n",
    "        test = pd.DataFrame(columns = value.columns, data = r)\n",
    "        test[(test > 0.5)] = 1\n",
    "        test[(test < 0.5)] = 0\n",
    "        interpolated_free_play_visit_1[key] = test\n",
    "        \n",
    "    else:\n",
    "        f = interpolate.interp1d(x = np.arange(0, value.shape[0], 1), y = value.astype(int).squeeze())\n",
    "        r = f(np.linspace(start = 0, stop = value.shape[0] -1, num = time))\n",
    "        test = pd.DataFrame(columns = value.columns, data = r)\n",
    "        test[(test > 0.5)] = 1\n",
    "        test[(test < 0.5)] = 0\n",
    "        interpolated_free_play_visit_1[key] = test\n",
    "        "
   ]
  },
  {
   "cell_type": "code",
   "execution_count": 10,
   "metadata": {},
   "outputs": [
    {
     "name": "stdout",
     "output_type": "stream",
     "text": [
      "Stored 'interpolated_free_play_visit_1' (dict)\n"
     ]
    }
   ],
   "source": [
    "%store interpolated_free_play_visit_1"
   ]
  },
  {
   "cell_type": "markdown",
   "metadata": {},
   "source": [
    "Free Play ---- Visit 2"
   ]
  },
  {
   "cell_type": "code",
   "execution_count": 11,
   "metadata": {},
   "outputs": [],
   "source": [
    "rootdir_glob = 'C:\\\\Users\\\\1\\\\elan_analysis\\\\data\\\\postures\\\\free_play\\\\2' \n",
    "\n",
    "listOfPostures = {}\n",
    "totalSeconds = {}\n",
    "codingFrequency = {}\n",
    "all_annotations = {}\n",
    "timeCoded_2 = {}\n",
    "totalLength = {}"
   ]
  },
  {
   "cell_type": "code",
   "execution_count": 12,
   "metadata": {},
   "outputs": [],
   "source": [
    "for i, file in enumerate(glob.glob(os.path.join(rootdir_glob, '**'), recursive=True)):\n",
    "    if os.path.isfile(os.path.join(rootdir_glob, file)):\n",
    "\n",
    "        \n",
    "        \n",
    "        if file.split('.')[1] == 'eaf':\n",
    "            file_name = file.split('\\\\')[-1][:12]\n",
    "            visit = file.split('\\\\')[-1][6:7]\n",
    "            task = file.split('\\\\')[-1][8:12]\n",
    "            elan_file = pympi.Elan.Eaf(file)\n",
    "            #elan_data[file_name] = elan_file\n",
    "            df = pd.DataFrame(columns=['id', 'label', 'StartTime', 'EndTime','Duration', 'Visit', 'Task'])\n",
    "            for tier in elan_file.get_tier_names():\n",
    "                for ann in elan_file.get_annotation_data_for_tier(tier):\n",
    "                    df2 = pd.DataFrame({'id': file_name, 'label': tier, 'StartTime': ann[0]/1000, 'EndTime': ann[1]/1000, 'Duration': ann[1]/1000 - ann[0]/1000, 'Visit': visit, 'Task' : task}, index=[0])\n",
    "                    df = pd.concat([df, df2], ignore_index=True)\n",
    "                    df = df.sort_values('StartTime')\n",
    "                    all_annotations[file_name] = df.sort_values('StartTime').reset_index(drop=True)\n",
    "                    listOfPostures[file_name] = all_annotations[file_name].loc[:, 'label'].unique()\n",
    "    "
   ]
  },
  {
   "cell_type": "code",
   "execution_count": 13,
   "metadata": {},
   "outputs": [],
   "source": [
    "for i, file in enumerate(glob.glob(os.path.join(rootdir_glob, '**'), recursive=True)):\n",
    "    if os.path.isfile(os.path.join(rootdir_glob, file)):\n",
    "        if file.split('.')[1] == 'txt':\n",
    "            file_name_txt = file.split('\\\\')[-1][:12] \n",
    "            with open(file) as f:\n",
    "                df = f.readline()\n",
    "                \n",
    "                totalSeconds[file_name_txt] = float( df.split('duration: ')[1].split('/ ')[1])\n",
    "                codingFrequency[file_name_txt] = float(df.split('sample: ')[1].split('\"')[0])/1000\n",
    "                totalLength[file_name_txt] = round(totalSeconds[file_name_txt] / codingFrequency[file_name_txt])\n",
    "                \n",
    "                "
   ]
  },
  {
   "cell_type": "code",
   "execution_count": 14,
   "metadata": {},
   "outputs": [],
   "source": [
    "#Transforming to 1-0\n",
    "for file_name in all_annotations:\n",
    "    timeSeriesCoded = pd.DataFrame(data=np.zeros([len(listOfPostures[file_name]), totalLength[file_name]]),\n",
    "                                   index=listOfPostures[file_name],\n",
    "                                   columns=range(totalLength[file_name]))\n",
    "\n",
    "    for behaviour in listOfPostures[file_name]:\n",
    "        for iValue in range(len(all_annotations[file_name][all_annotations[file_name]['label'] == behaviour].loc[:, 'StartTime'].reset_index(drop=True))):\n",
    "            if all_annotations[file_name][all_annotations[file_name]['label'] == behaviour].loc[:, 'StartTime'].reset_index(drop=True)[iValue] == 0:\n",
    "                timeSeriesCoded.loc[behaviour, :(round(all_annotations[file_name][all_annotations[file_name]['label'] == behaviour].loc[:, 'EndTime'].reset_index(drop=True)[iValue] / codingFrequency[file_name]))] = 1\n",
    "            else:\n",
    "                timeSeriesCoded.loc[behaviour,(round(all_annotations[file_name][all_annotations[file_name]['label'] == behaviour].loc[:, 'StartTime'].reset_index(drop=True)[iValue] / codingFrequency[file_name])):(round(all_annotations[file_name][all_annotations[file_name]['label'] == behaviour].loc[:, 'EndTime'].reset_index(drop=True)[iValue] / codingFrequency[file_name]))] = 1\n",
    "    timeCoded_2[file_name] = timeSeriesCoded.transpose().astype(int)"
   ]
  },
  {
   "cell_type": "code",
   "execution_count": 15,
   "metadata": {},
   "outputs": [],
   "source": [
    "#Interpolation\n",
    "\n",
    "%store -r totalLength_vocs_free_2\n",
    "interpolated_free_play_visit_2 = {}"
   ]
  },
  {
   "cell_type": "code",
   "execution_count": 16,
   "metadata": {},
   "outputs": [],
   "source": [
    "for (key,value), (ids,time) in zip(timeCoded_2.items(), totalLength_vocs_free_2.items()):\n",
    "    if len(value.columns) > 1:\n",
    "        f = interpolate.interp2d(x = np.arange(0, len(value.columns),1), y = np.arange(0, value.shape[0], 1), z = value.astype(int))\n",
    "        r = f(np.arange(0, value.shape[1],1), np.linspace(start = 0, stop = value.shape[0], num = time))\n",
    "        test = pd.DataFrame(columns = value.columns, data = r)\n",
    "        test[(test > 0.5)] = 1\n",
    "        test[(test < 0.5)] = 0\n",
    "        interpolated_free_play_visit_2[key] = test\n",
    "        \n",
    "    else:\n",
    "        f = interpolate.interp1d(x = np.arange(0, value.shape[0], 1), y = value.astype(int).squeeze())\n",
    "        r = f(np.linspace(start = 0, stop = value.shape[0] -1, num = time))\n",
    "        test = pd.DataFrame(columns = value.columns, data = r)\n",
    "        test[(test > 0.5)] = 1\n",
    "        test[(test < 0.5)] = 0\n",
    "        interpolated_free_play_visit_2[key] = test\n",
    "        "
   ]
  },
  {
   "cell_type": "code",
   "execution_count": 17,
   "metadata": {},
   "outputs": [
    {
     "name": "stdout",
     "output_type": "stream",
     "text": [
      "Stored 'interpolated_free_play_visit_2' (dict)\n"
     ]
    }
   ],
   "source": [
    "%store interpolated_free_play_visit_2"
   ]
  },
  {
   "cell_type": "markdown",
   "metadata": {},
   "source": [
    "Free Play ---- Visit 3"
   ]
  },
  {
   "cell_type": "code",
   "execution_count": 4,
   "metadata": {},
   "outputs": [],
   "source": [
    "rootdir_glob = 'C:\\\\Users\\\\1\\\\elan_analysis\\\\data\\\\postures\\\\free_play\\\\3' \n",
    "\n",
    "listOfPostures = {}\n",
    "totalSeconds = {}\n",
    "codingFrequency = {}\n",
    "all_annotations = {}\n",
    "timeCoded_3 = {}\n",
    "totalLength = {}"
   ]
  },
  {
   "cell_type": "code",
   "execution_count": 5,
   "metadata": {},
   "outputs": [],
   "source": [
    "for i, file in enumerate(glob.glob(os.path.join(rootdir_glob, '**'), recursive=True)):\n",
    "    if os.path.isfile(os.path.join(rootdir_glob, file)):\n",
    "\n",
    "        \n",
    "        \n",
    "        if file.split('.')[1] == 'eaf':\n",
    "            file_name = file.split('\\\\')[-1][:12]\n",
    "            visit = file.split('\\\\')[-1][6:7]\n",
    "            task = file.split('\\\\')[-1][8:12]\n",
    "            elan_file = pympi.Elan.Eaf(file)\n",
    "            #elan_data[file_name] = elan_file\n",
    "            df = pd.DataFrame(columns=['id', 'label', 'StartTime', 'EndTime','Duration', 'Visit', 'Task'])\n",
    "            for tier in elan_file.get_tier_names():\n",
    "                for ann in elan_file.get_annotation_data_for_tier(tier):\n",
    "                    df2 = pd.DataFrame({'id': file_name, 'label': tier, 'StartTime': ann[0]/1000, 'EndTime': ann[1]/1000, 'Duration': ann[1]/1000 - ann[0]/1000, 'Visit': visit, 'Task' : task}, index=[0])\n",
    "                    df = pd.concat([df, df2], ignore_index=True)\n",
    "                    df = df.sort_values('StartTime')\n",
    "                    all_annotations[file_name] = df.sort_values('StartTime').reset_index(drop=True)\n",
    "                    listOfPostures[file_name] = all_annotations[file_name].loc[:, 'label'].unique()\n",
    "    "
   ]
  },
  {
   "cell_type": "code",
   "execution_count": 6,
   "metadata": {},
   "outputs": [],
   "source": [
    "for i, file in enumerate(glob.glob(os.path.join(rootdir_glob, '**'), recursive=True)):\n",
    "    if os.path.isfile(os.path.join(rootdir_glob, file)):\n",
    "        if file.split('.')[1] == 'txt':\n",
    "            file_name_txt = file.split('\\\\')[-1][:12] \n",
    "            with open(file) as f:\n",
    "                df = f.readline()\n",
    "                \n",
    "                totalSeconds[file_name_txt] = float( df.split('duration: ')[1].split('/ ')[1])\n",
    "                codingFrequency[file_name_txt] = float(df.split('sample: ')[1].split('\"')[0])/1000\n",
    "                totalLength[file_name_txt] = round(totalSeconds[file_name_txt] / codingFrequency[file_name_txt])\n",
    "                \n",
    "                "
   ]
  },
  {
   "cell_type": "code",
   "execution_count": 7,
   "metadata": {},
   "outputs": [],
   "source": [
    "#Transforming to 1-0\n",
    "for file_name in all_annotations:\n",
    "    timeSeriesCoded = pd.DataFrame(data=np.zeros([len(listOfPostures[file_name]), totalLength[file_name]]),\n",
    "                                   index=listOfPostures[file_name],\n",
    "                                   columns=range(totalLength[file_name]))\n",
    "\n",
    "    for behaviour in listOfPostures[file_name]:\n",
    "        for iValue in range(len(all_annotations[file_name][all_annotations[file_name]['label'] == behaviour].loc[:, 'StartTime'].reset_index(drop=True))):\n",
    "            if all_annotations[file_name][all_annotations[file_name]['label'] == behaviour].loc[:, 'StartTime'].reset_index(drop=True)[iValue] == 0:\n",
    "                timeSeriesCoded.loc[behaviour, :(round(all_annotations[file_name][all_annotations[file_name]['label'] == behaviour].loc[:, 'EndTime'].reset_index(drop=True)[iValue] / codingFrequency[file_name]))] = 1\n",
    "            else:\n",
    "                timeSeriesCoded.loc[behaviour,(round(all_annotations[file_name][all_annotations[file_name]['label'] == behaviour].loc[:, 'StartTime'].reset_index(drop=True)[iValue] / codingFrequency[file_name])):(round(all_annotations[file_name][all_annotations[file_name]['label'] == behaviour].loc[:, 'EndTime'].reset_index(drop=True)[iValue] / codingFrequency[file_name]))] = 1\n",
    "    timeCoded_3[file_name] = timeSeriesCoded.transpose().astype(int)"
   ]
  },
  {
   "cell_type": "code",
   "execution_count": 8,
   "metadata": {},
   "outputs": [],
   "source": [
    "#Interpolation\n",
    "\n",
    "%store -r totalLength_vocs_free_3\n",
    "interpolated_free_play_visit_3 = {}"
   ]
  },
  {
   "cell_type": "code",
   "execution_count": 9,
   "metadata": {},
   "outputs": [],
   "source": [
    "for (key,value), (ids,time) in zip(timeCoded_3.items(), totalLength_vocs_free_3.items()):\n",
    "    if len(value.columns) > 1:\n",
    "        f = interpolate.interp2d(x = np.arange(0, len(value.columns),1), y = np.arange(0, value.shape[0], 1), z = value.astype(int))\n",
    "        r = f(np.arange(0, value.shape[1],1), np.linspace(start = 0, stop = value.shape[0], num = time))\n",
    "        test = pd.DataFrame(columns = value.columns, data = r)\n",
    "        test[(test > 0.5)] = 1\n",
    "        test[(test < 0.5)] = 0\n",
    "        interpolated_free_play_visit_3[key] = test\n",
    "        \n",
    "    else:\n",
    "        f = interpolate.interp1d(x = np.arange(0, value.shape[0], 1), y = value.astype(int).squeeze())\n",
    "        r = f(np.linspace(start = 0, stop = value.shape[0] -1, num = time))\n",
    "        test = pd.DataFrame(columns = value.columns, data = r)\n",
    "        test[(test > 0.5)] = 1\n",
    "        test[(test < 0.5)] = 0\n",
    "        interpolated_free_play_visit_3[key] = test\n",
    "        "
   ]
  },
  {
   "cell_type": "code",
   "execution_count": 10,
   "metadata": {},
   "outputs": [
    {
     "name": "stdout",
     "output_type": "stream",
     "text": [
      "Stored 'interpolated_free_play_visit_3' (dict)\n"
     ]
    }
   ],
   "source": [
    "%store interpolated_free_play_visit_3"
   ]
  },
  {
   "cell_type": "markdown",
   "metadata": {},
   "source": [
    "Free Play ----- Visit 4"
   ]
  },
  {
   "cell_type": "code",
   "execution_count": 2,
   "metadata": {},
   "outputs": [],
   "source": [
    "rootdir_glob = 'C:\\\\Users\\\\1\\\\elan_analysis\\\\data\\\\postures\\\\free_play\\\\4' \n",
    "listOfPostures = {}\n",
    "totalSeconds = {}\n",
    "codingFrequency = {}\n",
    "all_annotations = {}\n",
    "timeCoded_4 = {}\n",
    "totalLength = {}"
   ]
  },
  {
   "cell_type": "code",
   "execution_count": 3,
   "metadata": {},
   "outputs": [],
   "source": [
    "for i, file in enumerate(glob.glob(os.path.join(rootdir_glob, '**'), recursive=True)):\n",
    "    if os.path.isfile(os.path.join(rootdir_glob, file)):\n",
    "\n",
    "        \n",
    "        \n",
    "        if file.split('.')[1] == 'eaf':\n",
    "            file_name = file.split('\\\\')[-1][:12]\n",
    "            visit = file.split('\\\\')[-1][6:7]\n",
    "            task = file.split('\\\\')[-1][8:12]\n",
    "            elan_file = pympi.Elan.Eaf(file)\n",
    "            #elan_data[file_name] = elan_file\n",
    "            df = pd.DataFrame(columns=['id', 'label', 'StartTime', 'EndTime','Duration', 'Visit', 'Task'])\n",
    "            for tier in elan_file.get_tier_names():\n",
    "                for ann in elan_file.get_annotation_data_for_tier(tier):\n",
    "                    df2 = pd.DataFrame({'id': file_name, 'label': tier, 'StartTime': ann[0]/1000, 'EndTime': ann[1]/1000, 'Duration': ann[1]/1000 - ann[0]/1000, 'Visit': visit, 'Task' : task}, index=[0])\n",
    "                    df = pd.concat([df, df2], ignore_index=True)\n",
    "                    df = df.sort_values('StartTime')\n",
    "                    all_annotations[file_name] = df.sort_values('StartTime').reset_index(drop=True)\n",
    "                    listOfPostures[file_name] = all_annotations[file_name].loc[:, 'label'].unique()\n",
    "    "
   ]
  },
  {
   "cell_type": "code",
   "execution_count": 4,
   "metadata": {},
   "outputs": [],
   "source": [
    "for i, file in enumerate(glob.glob(os.path.join(rootdir_glob, '**'), recursive=True)):\n",
    "    if os.path.isfile(os.path.join(rootdir_glob, file)):\n",
    "        if file.split('.')[1] == 'txt':\n",
    "            file_name_txt = file.split('\\\\')[-1][:12] \n",
    "            with open(file) as f:\n",
    "                df = f.readline()\n",
    "                \n",
    "                totalSeconds[file_name_txt] = float( df.split('duration: ')[1].split('/ ')[1])\n",
    "                codingFrequency[file_name_txt] = float(df.split('sample: ')[1].split('\"')[0])/1000\n",
    "                totalLength[file_name_txt] = round(totalSeconds[file_name_txt] / codingFrequency[file_name_txt])\n",
    "                "
   ]
  },
  {
   "cell_type": "code",
   "execution_count": 5,
   "metadata": {},
   "outputs": [],
   "source": [
    "#Transforming to 1-0\n",
    "for file_name in all_annotations:\n",
    "    timeSeriesCoded = pd.DataFrame(data=np.zeros([len(listOfPostures[file_name]), totalLength[file_name]]),\n",
    "                                   index=listOfPostures[file_name],\n",
    "                                   columns=range(totalLength[file_name]))\n",
    "\n",
    "    for behaviour in listOfPostures[file_name]:\n",
    "        for iValue in range(len(all_annotations[file_name][all_annotations[file_name]['label'] == behaviour].loc[:, 'StartTime'].reset_index(drop=True))):\n",
    "            if all_annotations[file_name][all_annotations[file_name]['label'] == behaviour].loc[:, 'StartTime'].reset_index(drop=True)[iValue] == 0:\n",
    "                timeSeriesCoded.loc[behaviour, :(round(all_annotations[file_name][all_annotations[file_name]['label'] == behaviour].loc[:, 'EndTime'].reset_index(drop=True)[iValue] / codingFrequency[file_name]))] = 1\n",
    "            else:\n",
    "                timeSeriesCoded.loc[behaviour,(round(all_annotations[file_name][all_annotations[file_name]['label'] == behaviour].loc[:, 'StartTime'].reset_index(drop=True)[iValue] / codingFrequency[file_name])):(round(all_annotations[file_name][all_annotations[file_name]['label'] == behaviour].loc[:, 'EndTime'].reset_index(drop=True)[iValue] / codingFrequency[file_name]))] = 1\n",
    "    timeCoded_4[file_name] = timeSeriesCoded.transpose().astype(int)"
   ]
  },
  {
   "cell_type": "code",
   "execution_count": 6,
   "metadata": {},
   "outputs": [],
   "source": [
    "#Interpolation\n",
    "\n",
    "%store -r totalLength_vocs_free_4\n",
    "interpolated_free_play_visit_4 = {}"
   ]
  },
  {
   "cell_type": "code",
   "execution_count": 7,
   "metadata": {},
   "outputs": [],
   "source": [
    "for (key,value), (ids,time) in zip(timeCoded_4.items(), totalLength_vocs_free_4.items()):\n",
    "    if len(value.columns) > 1:\n",
    "        f = interpolate.interp2d(x = np.arange(0, len(value.columns),1), y = np.arange(0, value.shape[0], 1), z = value.astype(int))\n",
    "        r = f(np.arange(0, value.shape[1],1), np.linspace(start = 0, stop = value.shape[0], num = time))\n",
    "        test = pd.DataFrame(columns = value.columns, data = r)\n",
    "        test[(test > 0.5)] = 1\n",
    "        test[(test < 0.5)] = 0\n",
    "        interpolated_free_play_visit_4[key] = test\n",
    "        \n",
    "    else:\n",
    "        f = interpolate.interp1d(x = np.arange(0, value.shape[0], 1), y = value.astype(int).squeeze())\n",
    "        r = f(np.linspace(start = 0, stop = value.shape[0] -1, num = time))\n",
    "        test = pd.DataFrame(columns = value.columns, data = r)\n",
    "        test[(test > 0.5)] = 1\n",
    "        test[(test < 0.5)] = 0\n",
    "        interpolated_free_play_visit_4[key] = test\n",
    "        "
   ]
  },
  {
   "cell_type": "code",
   "execution_count": 8,
   "metadata": {},
   "outputs": [
    {
     "name": "stdout",
     "output_type": "stream",
     "text": [
      "Stored 'interpolated_free_play_visit_4' (dict)\n"
     ]
    }
   ],
   "source": [
    "%store interpolated_free_play_visit_4"
   ]
  },
  {
   "cell_type": "markdown",
   "metadata": {},
   "source": [
    "Rattles ---- Visit 1\n"
   ]
  },
  {
   "cell_type": "code",
   "execution_count": 2,
   "metadata": {},
   "outputs": [],
   "source": [
    "rootdir_glob = 'C:\\\\Users\\\\1\\\\elan_analysis\\\\data\\\\postures\\\\rattles\\\\1' \n"
   ]
  },
  {
   "cell_type": "code",
   "execution_count": 3,
   "metadata": {},
   "outputs": [],
   "source": [
    "listOfPostures_ratt = {}\n",
    "totalSeconds_ratt = {}\n",
    "codingFrequency_ratt = {}\n",
    "all_annotations_ratt = {}\n",
    "timeCoded_ratt = {}\n",
    "totalLength_ratt = {}\n",
    "\n"
   ]
  },
  {
   "cell_type": "code",
   "execution_count": 4,
   "metadata": {},
   "outputs": [],
   "source": [
    "for i, file in enumerate(glob.glob(os.path.join(rootdir_glob, '**'), recursive=True)):\n",
    "    if os.path.isfile(os.path.join(rootdir_glob, file)):\n",
    "\n",
    "        \n",
    "        \n",
    "        if file.split('.')[1] == 'eaf':\n",
    "            file_name = file.split('\\\\')[-1][:12]\n",
    "            visit = file.split('\\\\')[-1][6:7]\n",
    "            task = file.split('\\\\')[-1][8:12]\n",
    "            elan_file = pympi.Elan.Eaf(file)\n",
    "            df = pd.DataFrame(columns=['id', 'label', 'StartTime', 'EndTime','Duration', 'Visit', 'Task'])\n",
    "            for tier in elan_file.get_tier_names():\n",
    "                for ann in elan_file.get_annotation_data_for_tier(tier):\n",
    "                    df2 = pd.DataFrame({'id': file_name, 'label': tier, 'StartTime': ann[0]/1000, 'EndTime': ann[1]/1000, 'Duration': ann[1]/1000 - ann[0]/1000, 'Visit': visit, 'Task' : task}, index=[0])\n",
    "                    df = pd.concat([df, df2], ignore_index=True)\n",
    "                    df = df.sort_values('StartTime')\n",
    "                    all_annotations_ratt[file_name] = df.sort_values('StartTime').reset_index(drop=True)\n",
    "                    listOfPostures_ratt[file_name] = all_annotations_ratt[file_name].loc[:, 'label'].unique()\n",
    "    "
   ]
  },
  {
   "cell_type": "code",
   "execution_count": 5,
   "metadata": {},
   "outputs": [],
   "source": [
    "for i, file in enumerate(glob.glob(os.path.join(rootdir_glob, '**'), recursive=True)):\n",
    "    if os.path.isfile(os.path.join(rootdir_glob, file)):\n",
    "        if file.split('.')[1] == 'txt':\n",
    "            file_name_txt = file.split('\\\\')[-1][:12] \n",
    "            with open(file) as f:\n",
    "                df = f.readline()\n",
    "                \n",
    "                totalSeconds_ratt[file_name_txt] = float( df.split('duration: ')[1].split('/ ')[1])\n",
    "                codingFrequency_ratt[file_name_txt] = float(df.split('sample: ')[1].split('\"')[0])/1000\n",
    "                totalLength_ratt[file_name_txt] = round(totalSeconds_ratt[file_name_txt] / codingFrequency_ratt[file_name_txt])\n",
    "                \n",
    "                "
   ]
  },
  {
   "cell_type": "code",
   "execution_count": 6,
   "metadata": {},
   "outputs": [],
   "source": [
    "#Transforming to 1-0\n",
    "for file_name in all_annotations_ratt:\n",
    "    timeSeriesCoded = pd.DataFrame(data=np.zeros([len(listOfPostures_ratt[file_name]), totalLength_ratt[file_name]]),\n",
    "                                   index=listOfPostures_ratt[file_name],\n",
    "                                   columns=range(totalLength_ratt[file_name]))\n",
    "\n",
    "    for behaviour in listOfPostures_ratt[file_name]:\n",
    "        for iValue in range(len(all_annotations_ratt[file_name][all_annotations_ratt[file_name]['label'] == behaviour].loc[:, 'StartTime'].reset_index(drop=True))):\n",
    "            if all_annotations_ratt[file_name][all_annotations_ratt[file_name]['label'] == behaviour].loc[:, 'StartTime'].reset_index(drop=True)[iValue] == 0:\n",
    "                timeSeriesCoded.loc[behaviour, :(round(all_annotations_ratt[file_name][all_annotations_ratt[file_name]['label'] == behaviour].loc[:, 'EndTime'].reset_index(drop=True)[iValue] / codingFrequency_ratt[file_name]))] = 1\n",
    "            else:\n",
    "                timeSeriesCoded.loc[behaviour,(round(all_annotations_ratt[file_name][all_annotations_ratt[file_name]['label'] == behaviour].loc[:, 'StartTime'].reset_index(drop=True)[iValue] / codingFrequency_ratt[file_name])):(round(all_annotations_ratt[file_name][all_annotations_ratt[file_name]['label'] == behaviour].loc[:, 'EndTime'].reset_index(drop=True)[iValue] / codingFrequency_ratt[file_name]))] = 1\n",
    "    timeCoded_ratt[file_name] = timeSeriesCoded.transpose()"
   ]
  },
  {
   "cell_type": "code",
   "execution_count": null,
   "metadata": {},
   "outputs": [],
   "source": [
    "timeCoded_ratt"
   ]
  },
  {
   "cell_type": "code",
   "execution_count": 8,
   "metadata": {},
   "outputs": [],
   "source": [
    "#Interpolation \n",
    "\n",
    "%store -r totalLength_vocs_ratt_1\n",
    "interpolated_rattles_1 = {}"
   ]
  },
  {
   "cell_type": "code",
   "execution_count": 9,
   "metadata": {},
   "outputs": [],
   "source": [
    "for (key,value), (ids,time) in zip(timeCoded_ratt.items(), totalLength_vocs_ratt_1.items()):\n",
    "    if len(value.columns) > 1:\n",
    "        f = interpolate.interp2d(x = np.arange(0, len(value.columns),1), y = np.arange(0, value.shape[0], 1), z = value.astype(int))\n",
    "        r = f(np.arange(0, value.shape[1],1), np.linspace(start = 0, stop = value.shape[0], num = time))\n",
    "        test = pd.DataFrame(columns = value.columns, data = r)\n",
    "        test[(test > 0.5)] = 1\n",
    "        test[(test < 0.5)] = 0\n",
    "        interpolated_rattles_1[key] = test\n",
    "       \n",
    "        \n",
    "    else:\n",
    "        f = interpolate.interp1d(x = np.arange(0, value.shape[0], 1), y = value.astype(int).squeeze())\n",
    "        r = f(np.linspace(start = 0, stop = value.shape[0] -1, num = time))\n",
    "        test = pd.DataFrame(columns = value.columns, data = r)\n",
    "        test[(test > 0.5)] = 1\n",
    "        test[(test < 0.5)] = 0\n",
    "        interpolated_rattles_1[key] = test\n",
    "        "
   ]
  },
  {
   "cell_type": "code",
   "execution_count": 10,
   "metadata": {},
   "outputs": [
    {
     "name": "stdout",
     "output_type": "stream",
     "text": [
      "Stored 'interpolated_rattles_1' (dict)\n"
     ]
    }
   ],
   "source": [
    "%store interpolated_rattles_1"
   ]
  },
  {
   "cell_type": "markdown",
   "metadata": {},
   "source": [
    "Rattles ---- Visit 2"
   ]
  },
  {
   "cell_type": "code",
   "execution_count": 11,
   "metadata": {},
   "outputs": [],
   "source": [
    "rootdir_glob = 'C:\\\\Users\\\\1\\\\elan_analysis\\\\data\\\\postures\\\\rattles\\\\2' \n",
    "\n",
    "listOfPostures_ratt = {}\n",
    "totalSeconds_ratt = {}\n",
    "codingFrequency_ratt = {}\n",
    "all_annotations_ratt = {}\n",
    "timeCoded_ratt_2 = {}\n",
    "totalLength_ratt = {}"
   ]
  },
  {
   "cell_type": "code",
   "execution_count": 12,
   "metadata": {},
   "outputs": [],
   "source": [
    "for i, file in enumerate(glob.glob(os.path.join(rootdir_glob, '**'), recursive=True)):\n",
    "    if os.path.isfile(os.path.join(rootdir_glob, file)):\n",
    "\n",
    "        \n",
    "        \n",
    "        if file.split('.')[1] == 'eaf':\n",
    "            file_name = file.split('\\\\')[-1][:12]\n",
    "            visit = file.split('\\\\')[-1][6:7]\n",
    "            task = file.split('\\\\')[-1][8:12]\n",
    "            elan_file = pympi.Elan.Eaf(file)\n",
    "            df = pd.DataFrame(columns=['id', 'label', 'StartTime', 'EndTime','Duration', 'Visit', 'Task'])\n",
    "            for tier in elan_file.get_tier_names():\n",
    "                for ann in elan_file.get_annotation_data_for_tier(tier):\n",
    "                    df2 = pd.DataFrame({'id': file_name, 'label': tier, 'StartTime': ann[0]/1000, 'EndTime': ann[1]/1000, 'Duration': ann[1]/1000 - ann[0]/1000, 'Visit': visit, 'Task' : task}, index=[0])\n",
    "                    df = pd.concat([df, df2], ignore_index=True)\n",
    "                    df = df.sort_values('StartTime')\n",
    "                    all_annotations_ratt[file_name] = df.sort_values('StartTime').reset_index(drop=True)\n",
    "                    listOfPostures_ratt[file_name] = all_annotations_ratt[file_name].loc[:, 'label'].unique()\n",
    "    "
   ]
  },
  {
   "cell_type": "code",
   "execution_count": 13,
   "metadata": {},
   "outputs": [],
   "source": [
    "for i, file in enumerate(glob.glob(os.path.join(rootdir_glob, '**'), recursive=True)):\n",
    "    if os.path.isfile(os.path.join(rootdir_glob, file)):\n",
    "        if file.split('.')[1] == 'txt':\n",
    "            file_name_txt = file.split('\\\\')[-1][:12] \n",
    "            with open(file) as f:\n",
    "                df = f.readline()\n",
    "                \n",
    "                totalSeconds_ratt[file_name_txt] = float( df.split('duration: ')[1].split('/ ')[1])\n",
    "                codingFrequency_ratt[file_name_txt] = float(df.split('sample: ')[1].split('\"')[0])/1000\n",
    "                totalLength_ratt[file_name_txt] = round(totalSeconds_ratt[file_name_txt] / codingFrequency_ratt[file_name_txt])\n",
    "                \n",
    "                "
   ]
  },
  {
   "cell_type": "code",
   "execution_count": 14,
   "metadata": {},
   "outputs": [],
   "source": [
    "#Transforming to 1-0\n",
    "for file_name in all_annotations_ratt:\n",
    "    timeSeriesCoded = pd.DataFrame(data=np.zeros([len(listOfPostures_ratt[file_name]), totalLength_ratt[file_name]]),\n",
    "                                   index=listOfPostures_ratt[file_name],\n",
    "                                   columns=range(totalLength_ratt[file_name]))\n",
    "\n",
    "    for behaviour in listOfPostures_ratt[file_name]:\n",
    "        for iValue in range(len(all_annotations_ratt[file_name][all_annotations_ratt[file_name]['label'] == behaviour].loc[:, 'StartTime'].reset_index(drop=True))):\n",
    "            if all_annotations_ratt[file_name][all_annotations_ratt[file_name]['label'] == behaviour].loc[:, 'StartTime'].reset_index(drop=True)[iValue] == 0:\n",
    "                timeSeriesCoded.loc[behaviour, :(round(all_annotations_ratt[file_name][all_annotations_ratt[file_name]['label'] == behaviour].loc[:, 'EndTime'].reset_index(drop=True)[iValue] / codingFrequency_ratt[file_name]))] = 1\n",
    "            else:\n",
    "                timeSeriesCoded.loc[behaviour,(round(all_annotations_ratt[file_name][all_annotations_ratt[file_name]['label'] == behaviour].loc[:, 'StartTime'].reset_index(drop=True)[iValue] / codingFrequency_ratt[file_name])):(round(all_annotations_ratt[file_name][all_annotations_ratt[file_name]['label'] == behaviour].loc[:, 'EndTime'].reset_index(drop=True)[iValue] / codingFrequency_ratt[file_name]))] = 1\n",
    "    timeCoded_ratt_2[file_name] = timeSeriesCoded.transpose()"
   ]
  },
  {
   "cell_type": "code",
   "execution_count": null,
   "metadata": {},
   "outputs": [],
   "source": [
    "timeCoded_ratt_2"
   ]
  },
  {
   "cell_type": "code",
   "execution_count": 16,
   "metadata": {},
   "outputs": [],
   "source": [
    "#Interpolation \n",
    "\n",
    "%store -r totalLength_vocs_ratt_2\n",
    "interpolated_rattles_2 = {}"
   ]
  },
  {
   "cell_type": "code",
   "execution_count": 17,
   "metadata": {},
   "outputs": [],
   "source": [
    "for (key,value), (ids,time) in zip(timeCoded_ratt_2.items(), totalLength_vocs_ratt_2.items()):\n",
    "    if len(value.columns) > 1:\n",
    "        f = interpolate.interp2d(x = np.arange(0, len(value.columns),1), y = np.arange(0, value.shape[0], 1), z = value.astype(int))\n",
    "        r = f(np.arange(0, value.shape[1],1), np.linspace(start = 0, stop = value.shape[0], num = time))\n",
    "        test = pd.DataFrame(columns = value.columns, data = r)\n",
    "        test[(test > 0.5)] = 1\n",
    "        test[(test < 0.5)] = 0\n",
    "        interpolated_rattles_2[key] = test\n",
    "        #print('Key of the time coded dict: ', key, 'Id of participant: ', ids, 'desired time: ', time)\n",
    "        \n",
    "    else:\n",
    "        f = interpolate.interp1d(x = np.arange(0, value.shape[0], 1), y = value.astype(int).squeeze())\n",
    "        r = f(np.linspace(start = 0, stop = value.shape[0] -1, num = time))\n",
    "        test = pd.DataFrame(columns = value.columns, data = r)\n",
    "        test[(test > 0.5)] = 1\n",
    "        test[(test < 0.5)] = 0\n",
    "        interpolated_rattles_2[key] = test\n",
    "        "
   ]
  },
  {
   "cell_type": "code",
   "execution_count": 18,
   "metadata": {},
   "outputs": [
    {
     "name": "stdout",
     "output_type": "stream",
     "text": [
      "Stored 'interpolated_rattles_2' (dict)\n"
     ]
    }
   ],
   "source": [
    "%store interpolated_rattles_2"
   ]
  },
  {
   "cell_type": "markdown",
   "metadata": {},
   "source": [
    "Rattles ---- Visit 3"
   ]
  },
  {
   "cell_type": "code",
   "execution_count": 24,
   "metadata": {},
   "outputs": [],
   "source": [
    "rootdir_glob = 'C:\\\\Users\\\\1\\\\elan_analysis\\\\data\\\\postures\\\\rattles\\\\3' \n",
    "\n",
    "listOfPostures_ratt = {}\n",
    "totalSeconds_ratt = {}\n",
    "codingFrequency_ratt = {}\n",
    "all_annotations_ratt = {}\n",
    "timeCoded_ratt_3 = {}\n",
    "totalLength_ratt = {}"
   ]
  },
  {
   "cell_type": "code",
   "execution_count": 25,
   "metadata": {},
   "outputs": [],
   "source": [
    "for i, file in enumerate(glob.glob(os.path.join(rootdir_glob, '**'), recursive=True)):\n",
    "    if os.path.isfile(os.path.join(rootdir_glob, file)):\n",
    "\n",
    "        \n",
    "        \n",
    "        if file.split('.')[1] == 'eaf':\n",
    "            file_name = file.split('\\\\')[-1][:12]\n",
    "            visit = file.split('\\\\')[-1][6:7]\n",
    "            task = file.split('\\\\')[-1][8:12]\n",
    "            elan_file = pympi.Elan.Eaf(file)\n",
    "            df = pd.DataFrame(columns=['id', 'label', 'StartTime', 'EndTime','Duration', 'Visit', 'Task'])\n",
    "            for tier in elan_file.get_tier_names():\n",
    "                for ann in elan_file.get_annotation_data_for_tier(tier):\n",
    "                    df2 = pd.DataFrame({'id': file_name, 'label': tier, 'StartTime': ann[0]/1000, 'EndTime': ann[1]/1000, 'Duration': ann[1]/1000 - ann[0]/1000, 'Visit': visit, 'Task' : task}, index=[0])\n",
    "                    df = pd.concat([df, df2], ignore_index=True)\n",
    "                    df = df.sort_values('StartTime')\n",
    "                    all_annotations_ratt[file_name] = df.sort_values('StartTime').reset_index(drop=True)\n",
    "                    listOfPostures_ratt[file_name] = all_annotations_ratt[file_name].loc[:, 'label'].unique()\n",
    "    "
   ]
  },
  {
   "cell_type": "code",
   "execution_count": 26,
   "metadata": {},
   "outputs": [],
   "source": [
    "for i, file in enumerate(glob.glob(os.path.join(rootdir_glob, '**'), recursive=True)):\n",
    "    if os.path.isfile(os.path.join(rootdir_glob, file)):\n",
    "        if file.split('.')[1] == 'txt':\n",
    "            file_name_txt = file.split('\\\\')[-1][:12] \n",
    "            with open(file) as f:\n",
    "                df = f.readline()\n",
    "                \n",
    "                totalSeconds_ratt[file_name_txt] = float( df.split('duration: ')[1].split('/ ')[1])\n",
    "                codingFrequency_ratt[file_name_txt] = float(df.split('sample: ')[1].split('\"')[0])/1000\n",
    "                totalLength_ratt[file_name_txt] = round(totalSeconds_ratt[file_name_txt] / codingFrequency_ratt[file_name_txt])\n",
    "                \n",
    "                "
   ]
  },
  {
   "cell_type": "code",
   "execution_count": 27,
   "metadata": {},
   "outputs": [],
   "source": [
    "#Transforming to 1-0\n",
    "for file_name in all_annotations_ratt:\n",
    "    timeSeriesCoded = pd.DataFrame(data=np.zeros([len(listOfPostures_ratt[file_name]), totalLength_ratt[file_name]]),\n",
    "                                   index=listOfPostures_ratt[file_name],\n",
    "                                   columns=range(totalLength_ratt[file_name]))\n",
    "\n",
    "    for behaviour in listOfPostures_ratt[file_name]:\n",
    "        for iValue in range(len(all_annotations_ratt[file_name][all_annotations_ratt[file_name]['label'] == behaviour].loc[:, 'StartTime'].reset_index(drop=True))):\n",
    "            if all_annotations_ratt[file_name][all_annotations_ratt[file_name]['label'] == behaviour].loc[:, 'StartTime'].reset_index(drop=True)[iValue] == 0:\n",
    "                timeSeriesCoded.loc[behaviour, :(round(all_annotations_ratt[file_name][all_annotations_ratt[file_name]['label'] == behaviour].loc[:, 'EndTime'].reset_index(drop=True)[iValue] / codingFrequency_ratt[file_name]))] = 1\n",
    "            else:\n",
    "                timeSeriesCoded.loc[behaviour,(round(all_annotations_ratt[file_name][all_annotations_ratt[file_name]['label'] == behaviour].loc[:, 'StartTime'].reset_index(drop=True)[iValue] / codingFrequency_ratt[file_name])):(round(all_annotations_ratt[file_name][all_annotations_ratt[file_name]['label'] == behaviour].loc[:, 'EndTime'].reset_index(drop=True)[iValue] / codingFrequency_ratt[file_name]))] = 1\n",
    "    timeCoded_ratt_3[file_name] = timeSeriesCoded.transpose()"
   ]
  },
  {
   "cell_type": "code",
   "execution_count": 28,
   "metadata": {},
   "outputs": [],
   "source": [
    "#Interpolation \n",
    "\n",
    "%store -r totalLength_vocs_ratt_3\n",
    "interpolated_rattles_3 = {}"
   ]
  },
  {
   "cell_type": "code",
   "execution_count": 29,
   "metadata": {},
   "outputs": [],
   "source": [
    "for (key,value), (ids,time) in zip(timeCoded_ratt_3.items(), totalLength_vocs_ratt_3.items()):\n",
    "    if len(value.columns) > 1:\n",
    "        f = interpolate.interp2d(x = np.arange(0, len(value.columns),1), y = np.arange(0, value.shape[0], 1), z = value.astype(int))\n",
    "        r = f(np.arange(0, value.shape[1],1), np.linspace(start = 0, stop = value.shape[0], num = time))\n",
    "        test = pd.DataFrame(columns = value.columns, data = r)\n",
    "        test[(test > 0.5)] = 1\n",
    "        test[(test < 0.5)] = 0\n",
    "        interpolated_rattles_3[key] = test\n",
    "        \n",
    "        \n",
    "    else:\n",
    "        f = interpolate.interp1d(x = np.arange(0, value.shape[0], 1), y = value.astype(int).squeeze())\n",
    "        r = f(np.linspace(start = 0, stop = value.shape[0] -1, num = time))\n",
    "        test = pd.DataFrame(columns = value.columns, data = r)\n",
    "        test[(test > 0.5)] = 1\n",
    "        test[(test < 0.5)] = 0\n",
    "        interpolated_rattles_3[key] = test\n",
    "        "
   ]
  },
  {
   "cell_type": "code",
   "execution_count": 30,
   "metadata": {},
   "outputs": [
    {
     "name": "stdout",
     "output_type": "stream",
     "text": [
      "Stored 'interpolated_rattles_3' (dict)\n"
     ]
    }
   ],
   "source": [
    "%store interpolated_rattles_3"
   ]
  },
  {
   "cell_type": "markdown",
   "metadata": {},
   "source": [
    "Rattles ---- Visit 4"
   ]
  },
  {
   "cell_type": "code",
   "execution_count": 2,
   "metadata": {},
   "outputs": [],
   "source": [
    "rootdir_glob = 'C:\\\\Users\\\\1\\\\elan_analysis\\\\data\\\\postures\\\\rattles\\\\4' \n",
    "\n",
    "listOfPostures_ratt = {}\n",
    "totalSeconds_ratt = {}\n",
    "codingFrequency_ratt = {}\n",
    "all_annotations_ratt = {}\n",
    "timeCoded_ratt_4 = {}\n",
    "totalLength_ratt = {}"
   ]
  },
  {
   "cell_type": "code",
   "execution_count": 3,
   "metadata": {},
   "outputs": [],
   "source": [
    "for i, file in enumerate(glob.glob(os.path.join(rootdir_glob, '**'), recursive=True)):\n",
    "    if os.path.isfile(os.path.join(rootdir_glob, file)):\n",
    "\n",
    "        \n",
    "        \n",
    "        if file.split('.')[1] == 'eaf':\n",
    "            file_name = file.split('\\\\')[-1][:12]\n",
    "            visit = file.split('\\\\')[-1][6:7]\n",
    "            task = file.split('\\\\')[-1][8:12]\n",
    "            elan_file = pympi.Elan.Eaf(file)\n",
    "            df = pd.DataFrame(columns=['id', 'label', 'StartTime', 'EndTime','Duration', 'Visit', 'Task'])\n",
    "            for tier in elan_file.get_tier_names():\n",
    "                for ann in elan_file.get_annotation_data_for_tier(tier):\n",
    "                    df2 = pd.DataFrame({'id': file_name, 'label': tier, 'StartTime': ann[0]/1000, 'EndTime': ann[1]/1000, 'Duration': ann[1]/1000 - ann[0]/1000, 'Visit': visit, 'Task' : task}, index=[0])\n",
    "                    df = pd.concat([df, df2], ignore_index=True)\n",
    "                    df = df.sort_values('StartTime')\n",
    "                    all_annotations_ratt[file_name] = df.sort_values('StartTime').reset_index(drop=True)\n",
    "                    listOfPostures_ratt[file_name] = all_annotations_ratt[file_name].loc[:, 'label'].unique()\n",
    "    "
   ]
  },
  {
   "cell_type": "code",
   "execution_count": 4,
   "metadata": {},
   "outputs": [],
   "source": [
    "for i, file in enumerate(glob.glob(os.path.join(rootdir_glob, '**'), recursive=True)):\n",
    "    if os.path.isfile(os.path.join(rootdir_glob, file)):\n",
    "        if file.split('.')[1] == 'txt':\n",
    "            file_name_txt = file.split('\\\\')[-1][:12] \n",
    "            with open(file) as f:\n",
    "                df = f.readline()\n",
    "                \n",
    "                totalSeconds_ratt[file_name_txt] = float( df.split('duration: ')[1].split('/ ')[1])\n",
    "                codingFrequency_ratt[file_name_txt] = float(df.split('sample: ')[1].split('\"')[0])/1000\n",
    "                totalLength_ratt[file_name_txt] = round(totalSeconds_ratt[file_name_txt] / codingFrequency_ratt[file_name_txt])\n",
    "                \n",
    "                "
   ]
  },
  {
   "cell_type": "code",
   "execution_count": 5,
   "metadata": {},
   "outputs": [],
   "source": [
    "#Transforming to 1-0\n",
    "for file_name in all_annotations_ratt:\n",
    "    timeSeriesCoded = pd.DataFrame(data=np.zeros([len(listOfPostures_ratt[file_name]), totalLength_ratt[file_name]]),\n",
    "                                   index=listOfPostures_ratt[file_name],\n",
    "                                   columns=range(totalLength_ratt[file_name]))\n",
    "\n",
    "    for behaviour in listOfPostures_ratt[file_name]:\n",
    "        for iValue in range(len(all_annotations_ratt[file_name][all_annotations_ratt[file_name]['label'] == behaviour].loc[:, 'StartTime'].reset_index(drop=True))):\n",
    "            if all_annotations_ratt[file_name][all_annotations_ratt[file_name]['label'] == behaviour].loc[:, 'StartTime'].reset_index(drop=True)[iValue] == 0:\n",
    "                timeSeriesCoded.loc[behaviour, :(round(all_annotations_ratt[file_name][all_annotations_ratt[file_name]['label'] == behaviour].loc[:, 'EndTime'].reset_index(drop=True)[iValue] / codingFrequency_ratt[file_name]))] = 1\n",
    "            else:\n",
    "                timeSeriesCoded.loc[behaviour,(round(all_annotations_ratt[file_name][all_annotations_ratt[file_name]['label'] == behaviour].loc[:, 'StartTime'].reset_index(drop=True)[iValue] / codingFrequency_ratt[file_name])):(round(all_annotations_ratt[file_name][all_annotations_ratt[file_name]['label'] == behaviour].loc[:, 'EndTime'].reset_index(drop=True)[iValue] / codingFrequency_ratt[file_name]))] = 1\n",
    "    timeCoded_ratt_4[file_name] = timeSeriesCoded.transpose()"
   ]
  },
  {
   "cell_type": "code",
   "execution_count": 6,
   "metadata": {},
   "outputs": [],
   "source": [
    "#Interpolation \n",
    "\n",
    "%store -r totalLength_vocs_ratt_4\n",
    "interpolated_rattles_4 = {}"
   ]
  },
  {
   "cell_type": "code",
   "execution_count": 7,
   "metadata": {},
   "outputs": [],
   "source": [
    "for (key,value), (ids,time) in zip(timeCoded_ratt_4.items(), totalLength_vocs_ratt_4.items()):\n",
    "    if len(value.columns) > 1:\n",
    "        f = interpolate.interp2d(x = np.arange(0, len(value.columns),1), y = np.arange(0, value.shape[0], 1), z = value.astype(int))\n",
    "        r = f(np.arange(0, value.shape[1],1), np.linspace(start = 0, stop = value.shape[0], num = time))\n",
    "        test = pd.DataFrame(columns = value.columns, data = r)\n",
    "        test[(test > 0.5)] = 1\n",
    "        test[(test < 0.5)] = 0\n",
    "        interpolated_rattles_4[key] = test\n",
    "        #print('Key of the time coded dict: ', key, 'Id of participant: ', ids, 'desired time: ', time)\n",
    "        \n",
    "    else:\n",
    "        f = interpolate.interp1d(x = np.arange(0, value.shape[0], 1), y = value.astype(int).squeeze())\n",
    "        r = f(np.linspace(start = 0, stop = value.shape[0] -1, num = time))\n",
    "        test = pd.DataFrame(columns = value.columns, data = r)\n",
    "        test[(test > 0.5)] = 1\n",
    "        test[(test < 0.5)] = 0\n",
    "        interpolated_rattles_4[key] = test\n",
    "        "
   ]
  },
  {
   "cell_type": "code",
   "execution_count": 8,
   "metadata": {},
   "outputs": [
    {
     "name": "stdout",
     "output_type": "stream",
     "text": [
      "Stored 'interpolated_rattles_4' (dict)\n"
     ]
    }
   ],
   "source": [
    "%store interpolated_rattles_4"
   ]
  }
 ],
 "metadata": {
  "kernelspec": {
   "display_name": "Python 3",
   "language": "python",
   "name": "python3"
  },
  "language_info": {
   "codemirror_mode": {
    "name": "ipython",
    "version": 3
   },
   "file_extension": ".py",
   "mimetype": "text/x-python",
   "name": "python",
   "nbconvert_exporter": "python",
   "pygments_lexer": "ipython3",
   "version": "3.8.5"
  }
 },
 "nbformat": 4,
 "nbformat_minor": 4
}
