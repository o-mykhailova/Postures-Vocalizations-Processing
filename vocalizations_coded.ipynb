{
 "cells": [
  {
   "cell_type": "code",
   "execution_count": 1,
   "metadata": {},
   "outputs": [],
   "source": [
    "import os\n",
    "import glob\n",
    "import numpy as np\n",
    "import pandas as pd\n",
    "import seaborn as sns\n",
    "import tgt\n",
    "import sys\n",
    "import re\n",
    "from tgt import TextGrid\n",
    "import re"
   ]
  },
  {
   "cell_type": "code",
   "execution_count": 3,
   "metadata": {},
   "outputs": [
    {
     "data": {
      "text/plain": [
       "'C:\\\\Users\\\\1\\\\elan_analysis\\\\data\\\\vocalizations\\\\free_play\\\\1'"
      ]
     },
     "execution_count": 3,
     "metadata": {},
     "output_type": "execute_result"
    }
   ],
   "source": [
    "pwd"
   ]
  },
  {
   "cell_type": "markdown",
   "metadata": {},
   "source": [
    "Free Play ---- Visit 1"
   ]
  },
  {
   "cell_type": "code",
   "execution_count": 7,
   "metadata": {},
   "outputs": [],
   "source": [
    "listOfVoc = {}\n",
    "totalSeconds_voc = {}\n",
    "codingFrequency = 44100\n",
    "all_vocs = {}\n",
    "timeCoded_vocs_free_1 = {}\n",
    "totalLength_vocs_free_1 = {}"
   ]
  },
  {
   "cell_type": "code",
   "execution_count": 8,
   "metadata": {},
   "outputs": [],
   "source": [
    "rootdir_glob = 'C:\\\\Users\\\\1\\\\elan_analysis\\\\data\\\\vocalizations\\\\free_play\\\\1'\n",
    "for i, file in enumerate(glob.glob(os.path.join(rootdir_glob, '**'), recursive=True)):\n",
    "    if file.split('.')[-1] == 'TextGrid':\n",
    "        filename = file.split('\\\\')[-1]\n",
    "        #print('Name of the file:', filename)\n",
    "        #string = file.split('\\\\')[6] + '\\\\' + file.split('\\\\')[7]\n",
    "        #string = file.split('\\\\')[7]\n",
    "        path = os.path.join('C:\\\\Users\\\\1\\\\elan_analysis\\\\data\\\\vocalizations\\\\free_play\\\\1')\n",
    "        os.chdir (path)\n",
    "        text_grid = tgt.read_textgrid(filename, encoding = 'utf-8', include_empty_intervals=False)\n",
    "        #praat_data[filename] = text_grid\n",
    "        totalSeconds_voc[filename] = text_grid.end_time\n",
    "        totalLength_vocs_free_1[filename] = round(text_grid.end_time * codingFrequency)\n",
    "        tier_name = text_grid.get_tier_names()\n",
    "        voc =  text_grid.get_tier_by_name(tier_name[0])\n",
    "        frame = pd.DataFrame(voc, columns=['intervals'])\n",
    "        \n",
    "        frame['start_time'] = frame['intervals'].map(lambda x:\\\n",
    "                                             x.start_time)\n",
    "        frame['end_time'] = frame['intervals'].map(lambda x:\\\n",
    "                                           x.end_time)\n",
    "        frame['label'] = frame['intervals'].map(lambda x: x.text)\n",
    "\n",
    "        del frame['intervals']\n",
    "        \n",
    "        frame['label'] = np.where((frame.label == 'p') | (frame.label == 's')|(frame.label == 'w') |(frame.label == 'P')|(frame.label == 'ś'), 'speech_related', frame.label)\n",
    "        \n",
    "        frame['label'] = np.where((frame.label == 'rl') | (frame.label == 'rc')| (frame.label == 'o') , 'not_speech_related', frame.label)\n",
    "        \n",
    "        all_vocs[filename] = frame\n",
    "        listOfVoc[filename] = frame['label'].unique()\n"
   ]
  },
  {
   "cell_type": "code",
   "execution_count": 10,
   "metadata": {},
   "outputs": [],
   "source": [
    "for file_name in all_vocs: \n",
    "    timeSeriesCoded = pd.DataFrame(data=np.zeros([len(listOfVoc[file_name]), totalLength_vocs_free_1[file_name]]), index=listOfVoc[file_name],columns=range(totalLength_vocs_free_1[file_name]))\n",
    "    for behaviour in listOfVoc[file_name]:\n",
    "        for iValue in range(len(all_vocs[file_name][all_vocs[file_name]['label'] == behaviour].loc[:, 'start_time'].reset_index(drop=True))):\n",
    "            if all_vocs[file_name][all_vocs[file_name]['label'] == behaviour].loc[:, 'start_time'].reset_index(drop=True)[iValue] == 0:\n",
    "                timeSeriesCoded.loc[behaviour, :(round(all_vocs[file_name][all_vocs[file_name]['label'] == behaviour].loc[:, 'end_time'].reset_index(drop=True)[iValue] * codingFrequency))] = 1\n",
    "            else:\n",
    "                timeSeriesCoded.loc[behaviour,(round(all_vocs[file_name][all_vocs[file_name]['label'] == behaviour].loc[:, 'start_time'].reset_index(drop=True)[iValue] * codingFrequency)):(round(all_vocs[file_name][all_vocs[file_name]['label'] == behaviour].loc[:, 'end_time'].reset_index(drop=True)[iValue] * codingFrequency))] = 1\n",
    "                \n",
    "    timeCoded_vocs_free_1[file_name] = timeSeriesCoded.transpose().astype(int)\n",
    "    \n",
    "    "
   ]
  },
  {
   "cell_type": "code",
   "execution_count": 12,
   "metadata": {},
   "outputs": [
    {
     "name": "stdout",
     "output_type": "stream",
     "text": [
      "Stored 'timeCoded_vocs_free_1' (dict)\n",
      "Stored 'totalLength_vocs_free_1' (dict)\n"
     ]
    }
   ],
   "source": [
    "#store for using\n",
    "\n",
    "%store timeCoded_vocs_free_1\n",
    "%store totalLength_vocs_free_1"
   ]
  },
  {
   "cell_type": "markdown",
   "metadata": {},
   "source": [
    "Free Play --- Visit 2"
   ]
  },
  {
   "cell_type": "code",
   "execution_count": 10,
   "metadata": {},
   "outputs": [],
   "source": [
    "listOfVoc = {}\n",
    "totalSeconds_voc = {}\n",
    "codingFrequency = 44100\n",
    "all_vocs = {}\n",
    "timeCoded_vocs_free_2 = {}\n",
    "totalLength_vocs_free_2 = {}"
   ]
  },
  {
   "cell_type": "code",
   "execution_count": 11,
   "metadata": {},
   "outputs": [],
   "source": [
    "rootdir_glob = 'C:\\\\Users\\\\1\\\\elan_analysis\\\\data\\\\vocalizations\\\\free_play\\\\2'\n",
    "for i, file in enumerate(glob.glob(os.path.join(rootdir_glob, '**'), recursive=True)):\n",
    "    if file.split('.')[-1] == 'TextGrid':\n",
    "        filename = file.split('\\\\')[-1]\n",
    "        #print('Name of the file:', filename)\n",
    "        #string = file.split('\\\\')[6] + '\\\\' + file.split('\\\\')[7]\n",
    "        #string = file.split('\\\\')[7]\n",
    "        path = os.path.join('C:\\\\Users\\\\1\\\\elan_analysis\\\\data\\\\vocalizations\\\\free_play\\\\2')\n",
    "        os.chdir (path)\n",
    "        text_grid = tgt.read_textgrid(filename, encoding = 'utf-8', include_empty_intervals=False)\n",
    "        #praat_data[filename] = text_grid\n",
    "        totalSeconds_voc[filename] = text_grid.end_time\n",
    "        totalLength_vocs_free_2[filename] = round(text_grid.end_time * codingFrequency)\n",
    "        tier_name = text_grid.get_tier_names()\n",
    "        voc =  text_grid.get_tier_by_name(tier_name[0])\n",
    "        frame = pd.DataFrame(voc, columns=['intervals'])\n",
    "        \n",
    "        frame['start_time'] = frame['intervals'].map(lambda x:\\\n",
    "                                             x.start_time)\n",
    "        frame['end_time'] = frame['intervals'].map(lambda x:\\\n",
    "                                           x.end_time)\n",
    "        frame['label'] = frame['intervals'].map(lambda x: x.text)\n",
    "\n",
    "        del frame['intervals']\n",
    "        \n",
    "        frame['label'] = np.where((frame.label == 'p') | (frame.label == 's')|(frame.label == 'w') |(frame.label == 'P'), 'speech_related', frame.label)\n",
    "        \n",
    "        frame['label'] = np.where((frame.label == 'rl') | (frame.label == 'rc')| (frame.label == 'o') , 'not_speech_related', frame.label)\n",
    "        \n",
    "        all_vocs[filename] = frame\n",
    "        listOfVoc[filename] = frame['label'].unique()\n"
   ]
  },
  {
   "cell_type": "code",
   "execution_count": 12,
   "metadata": {},
   "outputs": [],
   "source": [
    "for file_name in all_vocs: \n",
    "    timeSeriesCoded = pd.DataFrame(data=np.zeros([len(listOfVoc[file_name]), totalLength_vocs_free_2[file_name]]), index=listOfVoc[file_name],columns=range(totalLength_vocs_free_2[file_name]))\n",
    "    for behaviour in listOfVoc[file_name]:\n",
    "        for iValue in range(len(all_vocs[file_name][all_vocs[file_name]['label'] == behaviour].loc[:, 'start_time'].reset_index(drop=True))):\n",
    "            if all_vocs[file_name][all_vocs[file_name]['label'] == behaviour].loc[:, 'start_time'].reset_index(drop=True)[iValue] == 0:\n",
    "                timeSeriesCoded.loc[behaviour, :(round(all_vocs[file_name][all_vocs[file_name]['label'] == behaviour].loc[:, 'end_time'].reset_index(drop=True)[iValue] * codingFrequency))] = 1\n",
    "            else:\n",
    "                timeSeriesCoded.loc[behaviour,(round(all_vocs[file_name][all_vocs[file_name]['label'] == behaviour].loc[:, 'start_time'].reset_index(drop=True)[iValue] * codingFrequency)):(round(all_vocs[file_name][all_vocs[file_name]['label'] == behaviour].loc[:, 'end_time'].reset_index(drop=True)[iValue] * codingFrequency))] = 1\n",
    "                \n",
    "    timeCoded_vocs_free_2[file_name] = timeSeriesCoded.transpose().astype(int)\n",
    "    \n",
    "    "
   ]
  },
  {
   "cell_type": "code",
   "execution_count": 13,
   "metadata": {},
   "outputs": [
    {
     "name": "stdout",
     "output_type": "stream",
     "text": [
      "Stored 'timeCoded_vocs_free_2' (dict)\n",
      "Stored 'totalLength_vocs_free_2' (dict)\n"
     ]
    }
   ],
   "source": [
    "#store for using\n",
    "\n",
    "%store timeCoded_vocs_free_2\n",
    "%store totalLength_vocs_free_2"
   ]
  },
  {
   "cell_type": "markdown",
   "metadata": {},
   "source": [
    "Free Play --- Visit 3"
   ]
  },
  {
   "cell_type": "code",
   "execution_count": 2,
   "metadata": {},
   "outputs": [],
   "source": [
    "listOfVoc = {}\n",
    "totalSeconds_voc = {}\n",
    "codingFrequency = 44100\n",
    "all_vocs = {}\n",
    "timeCoded_vocs_free_3_2 = {}\n",
    "totalLength_vocs_free_3_2 = {}"
   ]
  },
  {
   "cell_type": "code",
   "execution_count": 3,
   "metadata": {},
   "outputs": [],
   "source": [
    "rootdir_glob = 'C:\\\\Users\\\\1\\\\elan_analysis\\\\data\\\\vocalizations\\\\free_play\\\\3_2'\n",
    "for i, file in enumerate(glob.glob(os.path.join(rootdir_glob, '**'), recursive=True)):\n",
    "    if file.split('.')[-1] == 'TextGrid':\n",
    "        filename = file.split('\\\\')[-1]\n",
    "        #print('Name of the file:', filename)\n",
    "        #string = file.split('\\\\')[6] + '\\\\' + file.split('\\\\')[7]\n",
    "        #string = file.split('\\\\')[7]\n",
    "        path = os.path.join('C:\\\\Users\\\\1\\\\elan_analysis\\\\data\\\\vocalizations\\\\free_play\\\\3_2')\n",
    "        os.chdir (path)\n",
    "        text_grid = tgt.read_textgrid(filename, encoding = 'utf-8', include_empty_intervals=False)\n",
    "        #praat_data[filename] = text_grid\n",
    "        totalSeconds_voc[filename] = text_grid.end_time\n",
    "        totalLength_vocs_free_3_2[filename] = round(text_grid.end_time * codingFrequency)\n",
    "        tier_name = text_grid.get_tier_names()\n",
    "        voc =  text_grid.get_tier_by_name(tier_name[0])\n",
    "        frame = pd.DataFrame(voc, columns=['intervals'])\n",
    "        \n",
    "        frame['start_time'] = frame['intervals'].map(lambda x:\\\n",
    "                                             x.start_time)\n",
    "        frame['end_time'] = frame['intervals'].map(lambda x:\\\n",
    "                                           x.end_time)\n",
    "        frame['label'] = frame['intervals'].map(lambda x: x.text)\n",
    "\n",
    "        del frame['intervals']\n",
    "        \n",
    "        frame['label'] = np.where((frame.label == 'p') | (frame.label == 's')|(frame.label == 'w') |(frame.label == 'P'), 'speech_related', frame.label)\n",
    "        \n",
    "        frame['label'] = np.where((frame.label == 'rl') | (frame.label == 'rc')| (frame.label == 'o') , 'not_speech_related', frame.label)\n",
    "        \n",
    "        all_vocs[filename] = frame\n",
    "        listOfVoc[filename] = frame['label'].unique()\n"
   ]
  },
  {
   "cell_type": "code",
   "execution_count": 5,
   "metadata": {},
   "outputs": [],
   "source": [
    "for file_name in all_vocs: \n",
    "    timeSeriesCoded = pd.DataFrame(data=np.zeros([len(listOfVoc[file_name]), totalLength_vocs_free_3_2[file_name]]), index=listOfVoc[file_name],columns=range(totalLength_vocs_free_3_2[file_name]))\n",
    "    for behaviour in listOfVoc[file_name]:\n",
    "        for iValue in range(len(all_vocs[file_name][all_vocs[file_name]['label'] == behaviour].loc[:, 'start_time'].reset_index(drop=True))):\n",
    "            if all_vocs[file_name][all_vocs[file_name]['label'] == behaviour].loc[:, 'start_time'].reset_index(drop=True)[iValue] == 0:\n",
    "                timeSeriesCoded.loc[behaviour, :(round(all_vocs[file_name][all_vocs[file_name]['label'] == behaviour].loc[:, 'end_time'].reset_index(drop=True)[iValue] * codingFrequency))] = 1\n",
    "            else:\n",
    "                timeSeriesCoded.loc[behaviour,(round(all_vocs[file_name][all_vocs[file_name]['label'] == behaviour].loc[:, 'start_time'].reset_index(drop=True)[iValue] * codingFrequency)):(round(all_vocs[file_name][all_vocs[file_name]['label'] == behaviour].loc[:, 'end_time'].reset_index(drop=True)[iValue] * codingFrequency))] = 1\n",
    "                \n",
    "    timeCoded_vocs_free_3_2[file_name] = timeSeriesCoded.transpose().astype(int)\n",
    "    \n",
    "    "
   ]
  },
  {
   "cell_type": "code",
   "execution_count": 8,
   "metadata": {},
   "outputs": [
    {
     "name": "stdout",
     "output_type": "stream",
     "text": [
      "Stored 'timeCoded_vocs_free_3_2' (dict)\n",
      "Stored 'totalLength_vocs_free_3_2' (dict)\n"
     ]
    }
   ],
   "source": [
    "#store for using\n",
    "\n",
    "%store timeCoded_vocs_free_3_2\n",
    "%store totalLength_vocs_free_3_2"
   ]
  },
  {
   "cell_type": "markdown",
   "metadata": {},
   "source": [
    "Free Play --- Visit 4"
   ]
  },
  {
   "cell_type": "code",
   "execution_count": 4,
   "metadata": {},
   "outputs": [],
   "source": [
    "listOfVoc = {}\n",
    "totalSeconds_voc = {}\n",
    "codingFrequency = 44100\n",
    "all_vocs = {}\n",
    "timeCoded_vocs_free_4_2 = {}\n",
    "totalLength_vocs_free_4_2 = {}"
   ]
  },
  {
   "cell_type": "code",
   "execution_count": 5,
   "metadata": {},
   "outputs": [],
   "source": [
    "rootdir_glob = 'C:\\\\Users\\\\1\\\\elan_analysis\\\\data\\\\vocalizations\\\\free_play\\\\4_2'\n",
    "for i, file in enumerate(glob.glob(os.path.join(rootdir_glob, '**'), recursive=True)):\n",
    "    if file.split('.')[-1] == 'TextGrid':\n",
    "        filename = file.split('\\\\')[-1]\n",
    "        #print('Name of the file:', filename)\n",
    "        #string = file.split('\\\\')[6] + '\\\\' + file.split('\\\\')[7]\n",
    "        #string = file.split('\\\\')[7]\n",
    "        path = os.path.join('C:\\\\Users\\\\1\\\\elan_analysis\\\\data\\\\vocalizations\\\\free_play\\\\4_2')\n",
    "        os.chdir (path)\n",
    "        text_grid = tgt.read_textgrid(filename, encoding = 'utf-8', include_empty_intervals=False)\n",
    "        #praat_data[filename] = text_grid\n",
    "        totalSeconds_voc[filename] = text_grid.end_time\n",
    "        totalLength_vocs_free_4_2[filename] = round(text_grid.end_time * codingFrequency)\n",
    "        tier_name = text_grid.get_tier_names()\n",
    "        voc =  text_grid.get_tier_by_name(tier_name[0])\n",
    "        frame = pd.DataFrame(voc, columns=['intervals'])\n",
    "        \n",
    "        frame['start_time'] = frame['intervals'].map(lambda x:\\\n",
    "                                             x.start_time)\n",
    "        frame['end_time'] = frame['intervals'].map(lambda x:\\\n",
    "                                           x.end_time)\n",
    "        frame['label'] = frame['intervals'].map(lambda x: x.text)\n",
    "\n",
    "        del frame['intervals']\n",
    "        \n",
    "        frame['label'] = np.where((frame.label == 'p') | (frame.label == 's')|(frame.label == 'w') |(frame.label == 'P')|(frame.label == 'ś'), 'speech_related', frame.label)\n",
    "        \n",
    "        frame['label'] = np.where((frame.label == 'rl') | (frame.label == 'rc')| (frame.label == 'o') , 'not_speech_related', frame.label)\n",
    "        \n",
    "        all_vocs[filename] = frame\n",
    "        listOfVoc[filename] = frame['label'].unique()\n"
   ]
  },
  {
   "cell_type": "code",
   "execution_count": 6,
   "metadata": {},
   "outputs": [],
   "source": [
    "for file_name in all_vocs: \n",
    "    timeSeriesCoded = pd.DataFrame(data=np.zeros([len(listOfVoc[file_name]), totalLength_vocs_free_4_2[file_name]]), index=listOfVoc[file_name],columns=range(totalLength_vocs_free_4_2[file_name]))\n",
    "    for behaviour in listOfVoc[file_name]:\n",
    "        for iValue in range(len(all_vocs[file_name][all_vocs[file_name]['label'] == behaviour].loc[:, 'start_time'].reset_index(drop=True))):\n",
    "            if all_vocs[file_name][all_vocs[file_name]['label'] == behaviour].loc[:, 'start_time'].reset_index(drop=True)[iValue] == 0:\n",
    "                timeSeriesCoded.loc[behaviour, :(round(all_vocs[file_name][all_vocs[file_name]['label'] == behaviour].loc[:, 'end_time'].reset_index(drop=True)[iValue] * codingFrequency))] = 1\n",
    "            else:\n",
    "                timeSeriesCoded.loc[behaviour,(round(all_vocs[file_name][all_vocs[file_name]['label'] == behaviour].loc[:, 'start_time'].reset_index(drop=True)[iValue] * codingFrequency)):(round(all_vocs[file_name][all_vocs[file_name]['label'] == behaviour].loc[:, 'end_time'].reset_index(drop=True)[iValue] * codingFrequency))] = 1\n",
    "                \n",
    "    timeCoded_vocs_free_4_2[file_name] = timeSeriesCoded.transpose().astype(int)\n",
    "    \n",
    "    "
   ]
  },
  {
   "cell_type": "code",
   "execution_count": 8,
   "metadata": {},
   "outputs": [
    {
     "name": "stdout",
     "output_type": "stream",
     "text": [
      "Stored 'timeCoded_vocs_free_4_2' (dict)\n",
      "Stored 'totalLength_vocs_free_4_2' (dict)\n"
     ]
    }
   ],
   "source": [
    "#store for using\n",
    "\n",
    "%store timeCoded_vocs_free_4_2\n",
    "%store totalLength_vocs_free_4_2"
   ]
  },
  {
   "cell_type": "markdown",
   "metadata": {},
   "source": [
    "Rattles ---- Visit 1"
   ]
  },
  {
   "cell_type": "code",
   "execution_count": 3,
   "metadata": {},
   "outputs": [],
   "source": [
    "listOfVoc_ratt = {}\n",
    "totalSeconds_voc = {}\n",
    "codingFrequency = 44100\n",
    "all_vocs_ratt = {}\n",
    "timeCoded_vocs_ratt_1 = {}\n",
    "totalLength_vocs_ratt_1 = {}"
   ]
  },
  {
   "cell_type": "code",
   "execution_count": 5,
   "metadata": {},
   "outputs": [],
   "source": [
    "rootdir_glob = 'C:\\\\Users\\\\1\\\\elan_analysis\\\\data\\\\vocalizations\\\\rattles\\\\1'\n",
    "for i, file in enumerate(glob.glob(os.path.join(rootdir_glob, '**'), recursive=True)):\n",
    "    if file.split('.')[-1] == 'TextGrid':\n",
    "        filename = file.split('\\\\')[-1]\n",
    "        \n",
    "        #string = file.split('\\\\')[7]\n",
    "        path = os.path.join('C:\\\\Users\\\\1\\\\elan_analysis\\\\data\\\\vocalizations\\\\rattles\\\\1')\n",
    "        os.chdir (path)\n",
    "        text_grid = tgt.read_textgrid(filename, encoding = 'utf-8', include_empty_intervals=False)\n",
    "        totalSeconds_voc[filename] = text_grid.end_time\n",
    "        totalLength_vocs_ratt_1[filename] = round(text_grid.end_time * codingFrequency)\n",
    "        tier_name = text_grid.get_tier_names()\n",
    "        voc =  text_grid.get_tier_by_name(tier_name[0])\n",
    "        frame = pd.DataFrame(voc, columns=['intervals'])\n",
    "        \n",
    "        frame['start_time'] = frame['intervals'].map(lambda x:\\\n",
    "                                             x.start_time)\n",
    "        frame['end_time'] = frame['intervals'].map(lambda x:\\\n",
    "                                          x.end_time)\n",
    "        frame['label'] = frame['intervals'].map(lambda x: x.text)\n",
    "\n",
    "        del frame['intervals']\n",
    "        \n",
    "        frame['label'] = np.where((frame.label == 'p') | (frame.label == 's')|(frame.label == 'w') |(frame.label == 'f')| (frame.label == 'P')|(frame.label == 'ś'), 'speech_related', frame.label)\n",
    "        \n",
    "        frame['label'] = np.where((frame.label == 'rl') | (frame.label == 'rc')| (frame.label == 'o') , 'not_speech_related', frame.label)\n",
    "                \n",
    "        all_vocs_ratt[filename] = frame\n",
    "        listOfVoc_ratt[filename] = frame['label'].unique()"
   ]
  },
  {
   "cell_type": "code",
   "execution_count": 6,
   "metadata": {},
   "outputs": [],
   "source": [
    "for file_name in all_vocs_ratt: \n",
    "    timeSeriesCoded = pd.DataFrame(data=np.zeros([len(listOfVoc_ratt[file_name]), totalLength_vocs_ratt_1[file_name]]), index=listOfVoc_ratt[file_name],columns=range(totalLength_vocs_ratt_1[file_name]))\n",
    "    \n",
    "    for behaviour in listOfVoc_ratt[file_name]:\n",
    "        for iValue in range(len(all_vocs_ratt[file_name][all_vocs_ratt[file_name]['label'] == behaviour].loc[:, 'start_time'].reset_index(drop=True))):\n",
    "            if all_vocs_ratt[file_name][all_vocs_ratt[file_name]['label'] == behaviour].loc[:, 'start_time'].reset_index(drop=True)[iValue] == 0:\n",
    "                timeSeriesCoded.loc[behaviour, :(round(all_vocs_ratt[file_name][all_vocs[file_name]['label'] == behaviour].loc[:, 'end_time'].reset_index(drop=True)[iValue] * codingFrequency))] = 1\n",
    "            else:\n",
    "                timeSeriesCoded.loc[behaviour,(round(all_vocs_ratt[file_name][all_vocs_ratt[file_name]['label'] == behaviour].loc[:, 'start_time'].reset_index(drop=True)[iValue] * codingFrequency)):(round(all_vocs_ratt[file_name][all_vocs_ratt[file_name]['label'] == behaviour].loc[:, 'end_time'].reset_index(drop=True)[iValue] * codingFrequency))] = 1\n",
    "    timeCoded_vocs_ratt_1[file_name] = timeSeriesCoded.transpose()\n",
    "    \n",
    "    "
   ]
  },
  {
   "cell_type": "code",
   "execution_count": 8,
   "metadata": {},
   "outputs": [
    {
     "name": "stdout",
     "output_type": "stream",
     "text": [
      "Stored 'timeCoded_vocs_ratt_1' (dict)\n",
      "Stored 'totalLength_vocs_ratt_1' (dict)\n"
     ]
    }
   ],
   "source": [
    "%store timeCoded_vocs_ratt_1\n",
    "%store totalLength_vocs_ratt_1"
   ]
  },
  {
   "cell_type": "markdown",
   "metadata": {},
   "source": [
    "Rattles ----- Visit 2"
   ]
  },
  {
   "cell_type": "code",
   "execution_count": 9,
   "metadata": {},
   "outputs": [],
   "source": [
    "listOfVoc_ratt = {}\n",
    "totalSeconds_voc = {}\n",
    "codingFrequency = 44100\n",
    "all_vocs_ratt = {}\n",
    "timeCoded_vocs_ratt_2 = {}\n",
    "totalLength_vocs_ratt_2 = {}"
   ]
  },
  {
   "cell_type": "code",
   "execution_count": 11,
   "metadata": {},
   "outputs": [],
   "source": [
    "rootdir_glob = 'C:\\\\Users\\\\1\\\\elan_analysis\\\\data\\\\vocalizations\\\\rattles\\\\2'\n",
    "for i, file in enumerate(glob.glob(os.path.join(rootdir_glob, '**'), recursive=True)):\n",
    "    if file.split('.')[-1] == 'TextGrid':\n",
    "        filename = file.split('\\\\')[-1]\n",
    "        \n",
    "        #string = file.split('\\\\')[7]\n",
    "        path = os.path.join('C:\\\\Users\\\\1\\\\elan_analysis\\\\data\\\\vocalizations\\\\rattles\\\\2')\n",
    "        os.chdir (path)\n",
    "        text_grid = tgt.read_textgrid(filename, encoding = 'utf-8', include_empty_intervals=False)\n",
    "        totalSeconds_voc[filename] = text_grid.end_time\n",
    "        totalLength_vocs_ratt_2[filename] = round(text_grid.end_time * codingFrequency)\n",
    "        tier_name = text_grid.get_tier_names()\n",
    "        voc =  text_grid.get_tier_by_name(tier_name[0])\n",
    "        frame = pd.DataFrame(voc, columns=['intervals'])\n",
    "        \n",
    "        frame['start_time'] = frame['intervals'].map(lambda x:\\\n",
    "                                             x.start_time)\n",
    "        frame['end_time'] = frame['intervals'].map(lambda x:\\\n",
    "                                          x.end_time)\n",
    "        frame['label'] = frame['intervals'].map(lambda x: x.text)\n",
    "\n",
    "        del frame['intervals']\n",
    "        \n",
    "        frame['label'] = np.where((frame.label == 'p') | (frame.label == 's')|(frame.label == 'w') |(frame.label == 'f')| (frame.label == 'P')|(frame.label == 'ś'), 'speech_related', frame.label)\n",
    "        \n",
    "        frame['label'] = np.where((frame.label == 'rl') | (frame.label == 'rc')| (frame.label == 'o') , 'not_speech_related', frame.label)\n",
    "                \n",
    "        all_vocs_ratt[filename] = frame\n",
    "        listOfVoc_ratt[filename] = frame['label'].unique()"
   ]
  },
  {
   "cell_type": "code",
   "execution_count": 12,
   "metadata": {},
   "outputs": [],
   "source": [
    "for file_name in all_vocs_ratt: \n",
    "    timeSeriesCoded = pd.DataFrame(data=np.zeros([len(listOfVoc_ratt[file_name]), totalLength_vocs_ratt_2[file_name]]), index=listOfVoc_ratt[file_name],columns=range(totalLength_vocs_ratt_2[file_name]))\n",
    "    \n",
    "    for behaviour in listOfVoc_ratt[file_name]:\n",
    "        for iValue in range(len(all_vocs_ratt[file_name][all_vocs_ratt[file_name]['label'] == behaviour].loc[:, 'start_time'].reset_index(drop=True))):\n",
    "            if all_vocs_ratt[file_name][all_vocs_ratt[file_name]['label'] == behaviour].loc[:, 'start_time'].reset_index(drop=True)[iValue] == 0:\n",
    "                timeSeriesCoded.loc[behaviour, :(round(all_vocs_ratt[file_name][all_vocs[file_name]['label'] == behaviour].loc[:, 'end_time'].reset_index(drop=True)[iValue] * codingFrequency))] = 1\n",
    "            else:\n",
    "                timeSeriesCoded.loc[behaviour,(round(all_vocs_ratt[file_name][all_vocs_ratt[file_name]['label'] == behaviour].loc[:, 'start_time'].reset_index(drop=True)[iValue] * codingFrequency)):(round(all_vocs_ratt[file_name][all_vocs_ratt[file_name]['label'] == behaviour].loc[:, 'end_time'].reset_index(drop=True)[iValue] * codingFrequency))] = 1\n",
    "    timeCoded_vocs_ratt_2[file_name] = timeSeriesCoded.transpose()\n",
    "    \n",
    "    "
   ]
  },
  {
   "cell_type": "code",
   "execution_count": 14,
   "metadata": {},
   "outputs": [
    {
     "name": "stdout",
     "output_type": "stream",
     "text": [
      "Stored 'timeCoded_vocs_ratt_2' (dict)\n",
      "Stored 'totalLength_vocs_ratt_2' (dict)\n"
     ]
    }
   ],
   "source": [
    "%store timeCoded_vocs_ratt_2\n",
    "%store totalLength_vocs_ratt_2"
   ]
  },
  {
   "cell_type": "markdown",
   "metadata": {},
   "source": [
    "Rattles ---- Visit 3"
   ]
  },
  {
   "cell_type": "code",
   "execution_count": 17,
   "metadata": {},
   "outputs": [],
   "source": [
    "listOfVoc_ratt = {}\n",
    "totalSeconds_voc = {}\n",
    "codingFrequency = 44100\n",
    "all_vocs_ratt = {}\n",
    "timeCoded_vocs_ratt_3 = {}\n",
    "totalLength_vocs_ratt_3 = {}"
   ]
  },
  {
   "cell_type": "code",
   "execution_count": 18,
   "metadata": {},
   "outputs": [],
   "source": [
    "rootdir_glob = 'C:\\\\Users\\\\1\\\\elan_analysis\\\\data\\\\vocalizations\\\\rattles\\\\3'\n",
    "for i, file in enumerate(glob.glob(os.path.join(rootdir_glob, '**'), recursive=True)):\n",
    "    if file.split('.')[-1] == 'TextGrid':\n",
    "        filename = file.split('\\\\')[-1]\n",
    "        \n",
    "        #string = file.split('\\\\')[7]\n",
    "        path = os.path.join('C:\\\\Users\\\\1\\\\elan_analysis\\\\data\\\\vocalizations\\\\rattles\\\\3')\n",
    "        os.chdir (path)\n",
    "        text_grid = tgt.read_textgrid(filename, encoding = 'utf-8', include_empty_intervals=False)\n",
    "        totalSeconds_voc[filename] = text_grid.end_time\n",
    "        totalLength_vocs_ratt_3[filename] = round(text_grid.end_time * codingFrequency)\n",
    "        tier_name = text_grid.get_tier_names()\n",
    "        voc =  text_grid.get_tier_by_name(tier_name[0])\n",
    "        frame = pd.DataFrame(voc, columns=['intervals'])\n",
    "        \n",
    "        frame['start_time'] = frame['intervals'].map(lambda x:\\\n",
    "                                             x.start_time)\n",
    "        frame['end_time'] = frame['intervals'].map(lambda x:\\\n",
    "                                          x.end_time)\n",
    "        frame['label'] = frame['intervals'].map(lambda x: x.text)\n",
    "\n",
    "        del frame['intervals']\n",
    "        \n",
    "        frame['label'] = np.where((frame.label == 'p') | (frame.label == 's')|(frame.label == 'w') |(frame.label == 'f')| (frame.label == 'P')|(frame.label == 'ś'), 'speech_related', frame.label)\n",
    "        \n",
    "        frame['label'] = np.where((frame.label == 'rl') | (frame.label == 'rc')| (frame.label == 'o') , 'not_speech_related', frame.label)\n",
    "                \n",
    "        all_vocs_ratt[filename] = frame\n",
    "        listOfVoc_ratt[filename] = frame['label'].unique()"
   ]
  },
  {
   "cell_type": "code",
   "execution_count": 19,
   "metadata": {},
   "outputs": [],
   "source": [
    "for file_name in all_vocs_ratt: \n",
    "    timeSeriesCoded = pd.DataFrame(data=np.zeros([len(listOfVoc_ratt[file_name]), totalLength_vocs_ratt_3[file_name]]), index=listOfVoc_ratt[file_name],columns=range(totalLength_vocs_ratt_3[file_name]))\n",
    "    \n",
    "    for behaviour in listOfVoc_ratt[file_name]:\n",
    "        for iValue in range(len(all_vocs_ratt[file_name][all_vocs_ratt[file_name]['label'] == behaviour].loc[:, 'start_time'].reset_index(drop=True))):\n",
    "            if all_vocs_ratt[file_name][all_vocs_ratt[file_name]['label'] == behaviour].loc[:, 'start_time'].reset_index(drop=True)[iValue] == 0:\n",
    "                timeSeriesCoded.loc[behaviour, :(round(all_vocs_ratt[file_name][all_vocs[file_name]['label'] == behaviour].loc[:, 'end_time'].reset_index(drop=True)[iValue] * codingFrequency))] = 1\n",
    "            else:\n",
    "                timeSeriesCoded.loc[behaviour,(round(all_vocs_ratt[file_name][all_vocs_ratt[file_name]['label'] == behaviour].loc[:, 'start_time'].reset_index(drop=True)[iValue] * codingFrequency)):(round(all_vocs_ratt[file_name][all_vocs_ratt[file_name]['label'] == behaviour].loc[:, 'end_time'].reset_index(drop=True)[iValue] * codingFrequency))] = 1\n",
    "    timeCoded_vocs_ratt_3[file_name] = timeSeriesCoded.transpose()\n",
    "    \n",
    "    "
   ]
  },
  {
   "cell_type": "code",
   "execution_count": 21,
   "metadata": {},
   "outputs": [
    {
     "name": "stdout",
     "output_type": "stream",
     "text": [
      "Stored 'timeCoded_vocs_ratt_3' (dict)\n",
      "Stored 'totalLength_vocs_ratt_3' (dict)\n"
     ]
    }
   ],
   "source": [
    "%store timeCoded_vocs_ratt_3\n",
    "%store totalLength_vocs_ratt_3"
   ]
  },
  {
   "cell_type": "markdown",
   "metadata": {},
   "source": [
    "Rattles ---- Visit 4"
   ]
  },
  {
   "cell_type": "code",
   "execution_count": 22,
   "metadata": {},
   "outputs": [],
   "source": [
    "listOfVoc_ratt = {}\n",
    "totalSeconds_voc = {}\n",
    "codingFrequency = 44100\n",
    "all_vocs_ratt = {}\n",
    "timeCoded_vocs_ratt_4 = {}\n",
    "totalLength_vocs_ratt_4 = {}"
   ]
  },
  {
   "cell_type": "code",
   "execution_count": 23,
   "metadata": {},
   "outputs": [],
   "source": [
    "rootdir_glob = 'C:\\\\Users\\\\1\\\\elan_analysis\\\\data\\\\vocalizations\\\\rattles\\\\4'\n",
    "for i, file in enumerate(glob.glob(os.path.join(rootdir_glob, '**'), recursive=True)):\n",
    "    if file.split('.')[-1] == 'TextGrid':\n",
    "        filename = file.split('\\\\')[-1]\n",
    "        \n",
    "        #string = file.split('\\\\')[7]\n",
    "        path = os.path.join('C:\\\\Users\\\\1\\\\elan_analysis\\\\data\\\\vocalizations\\\\rattles\\\\4')\n",
    "        os.chdir (path)\n",
    "        text_grid = tgt.read_textgrid(filename, encoding = 'utf-8', include_empty_intervals=False)\n",
    "        totalSeconds_voc[filename] = text_grid.end_time\n",
    "        totalLength_vocs_ratt_4[filename] = round(text_grid.end_time * codingFrequency)\n",
    "        tier_name = text_grid.get_tier_names()\n",
    "        voc =  text_grid.get_tier_by_name(tier_name[0])\n",
    "        frame = pd.DataFrame(voc, columns=['intervals'])\n",
    "        \n",
    "        frame['start_time'] = frame['intervals'].map(lambda x:\\\n",
    "                                             x.start_time)\n",
    "        frame['end_time'] = frame['intervals'].map(lambda x:\\\n",
    "                                          x.end_time)\n",
    "        frame['label'] = frame['intervals'].map(lambda x: x.text)\n",
    "\n",
    "        del frame['intervals']\n",
    "        \n",
    "        frame['label'] = np.where((frame.label == 'p') | (frame.label == 's')|(frame.label == 'w') |(frame.label == 'f')| (frame.label == 'P')|(frame.label == 'ś'), 'speech_related', frame.label)\n",
    "        \n",
    "        frame['label'] = np.where((frame.label == 'rl') | (frame.label == 'rc')| (frame.label == 'o') , 'not_speech_related', frame.label)\n",
    "                \n",
    "        all_vocs_ratt[filename] = frame\n",
    "        listOfVoc_ratt[filename] = frame['label'].unique()"
   ]
  },
  {
   "cell_type": "code",
   "execution_count": 24,
   "metadata": {},
   "outputs": [],
   "source": [
    "for file_name in all_vocs_ratt: \n",
    "    timeSeriesCoded = pd.DataFrame(data=np.zeros([len(listOfVoc_ratt[file_name]), totalLength_vocs_ratt_4[file_name]]), index=listOfVoc_ratt[file_name],columns=range(totalLength_vocs_ratt_4[file_name]))\n",
    "    \n",
    "    for behaviour in listOfVoc_ratt[file_name]:\n",
    "        for iValue in range(len(all_vocs_ratt[file_name][all_vocs_ratt[file_name]['label'] == behaviour].loc[:, 'start_time'].reset_index(drop=True))):\n",
    "            if all_vocs_ratt[file_name][all_vocs_ratt[file_name]['label'] == behaviour].loc[:, 'start_time'].reset_index(drop=True)[iValue] == 0:\n",
    "                timeSeriesCoded.loc[behaviour, :(round(all_vocs_ratt[file_name][all_vocs[file_name]['label'] == behaviour].loc[:, 'end_time'].reset_index(drop=True)[iValue] * codingFrequency))] = 1\n",
    "            else:\n",
    "                timeSeriesCoded.loc[behaviour,(round(all_vocs_ratt[file_name][all_vocs_ratt[file_name]['label'] == behaviour].loc[:, 'start_time'].reset_index(drop=True)[iValue] * codingFrequency)):(round(all_vocs_ratt[file_name][all_vocs_ratt[file_name]['label'] == behaviour].loc[:, 'end_time'].reset_index(drop=True)[iValue] * codingFrequency))] = 1\n",
    "    timeCoded_vocs_ratt_4[file_name] = timeSeriesCoded.transpose()\n",
    "    \n",
    "    "
   ]
  },
  {
   "cell_type": "code",
   "execution_count": 25,
   "metadata": {},
   "outputs": [
    {
     "name": "stdout",
     "output_type": "stream",
     "text": [
      "Stored 'timeCoded_vocs_ratt_4' (dict)\n",
      "Stored 'totalLength_vocs_ratt_4' (dict)\n"
     ]
    }
   ],
   "source": [
    "%store timeCoded_vocs_ratt_4\n",
    "%store totalLength_vocs_ratt_4"
   ]
  }
 ],
 "metadata": {
  "kernelspec": {
   "display_name": "Python 3",
   "language": "python",
   "name": "python3"
  },
  "language_info": {
   "codemirror_mode": {
    "name": "ipython",
    "version": 3
   },
   "file_extension": ".py",
   "mimetype": "text/x-python",
   "name": "python",
   "nbconvert_exporter": "python",
   "pygments_lexer": "ipython3",
   "version": "3.8.5"
  }
 },
 "nbformat": 4,
 "nbformat_minor": 4
}
